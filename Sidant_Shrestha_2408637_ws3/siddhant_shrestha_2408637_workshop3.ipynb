{
  "nbformat": 4,
  "nbformat_minor": 0,
  "metadata": {
    "colab": {
      "provenance": []
    },
    "kernelspec": {
      "name": "python3",
      "display_name": "Python 3"
    },
    "language_info": {
      "name": "python"
    }
  },
  "cells": [
    {
      "cell_type": "code",
      "execution_count": null,
      "metadata": {
        "colab": {
          "base_uri": "https://localhost:8080/"
        },
        "id": "Ud0seVvD0Clv",
        "outputId": "6103299f-bead-4ee9-d600-6b025bcfd187"
      },
      "outputs": [
        {
          "output_type": "stream",
          "name": "stdout",
          "text": [
            "                                       Name  fare_per_year\n",
            "305          Allison, Master. Hudson Trevor     164.728261\n",
            "297            Allison, Miss. Helen Loraine      75.775000\n",
            "386         Goodwin, Master. Sidney Leonard      46.900000\n",
            "164            Panula, Master. Eino Viljami      39.687500\n",
            "183               Becker, Master. Richard F      39.000000\n",
            "..                                      ...            ...\n",
            "318                Wick, Miss. Mary Natalie       5.318281\n",
            "348  Coutts, Master. William Loch \"William\"       5.300000\n",
            "205              Strom, Miss. Telma Matilda       5.231250\n",
            "813      Andersson, Miss. Ebba Iris Alfrida       5.212500\n",
            "480          Goodwin, Master. Harold Victor       5.211111\n",
            "\n",
            "[68 rows x 2 columns]\n"
          ]
        }
      ],
      "source": [
        "\"\"\"\n",
        "Which passenger had the highest fare paid relative to their age?\n",
        "\"\"\"\n",
        "\n",
        "import pandas as pd\n",
        "\n",
        "df = pd.read_csv('/content/drive/MyDrive/DataSets/Titanic-Dataset.csv')\n",
        "\n",
        "\"\"\"Add a column to the Titanic dataset, fare per year, containing the fare divided by the age of\n",
        "the passenger(i.e., Fare/Age).\"\"\"\n",
        "\n",
        "df['fare_per_year'] = df['Fare'] / df['Age']\n",
        "\n",
        "\"\"\"2. Subset rows where fare per year is higher than 5, assigning this to high fare age. \"\"\"\n",
        "high_fare_age = df[df['fare_per_year'] > 5]\n",
        "\n",
        "\"\"\"Sort high fare age by descending fare per year, assigning this to high fare age srt.\"\"\"\n",
        "\n",
        "high_fare_age_srt = high_fare_age.sort_values(by='fare_per_year', ascending=False)\n",
        "\"\"\"4. Select only the Name and fare per year columns of high fare age srt and save the result as result.\"\"\"\n",
        "\n",
        "result = high_fare_age_srt[['Name', 'fare_per_year']]\n",
        "print(result)\n"
      ]
    },
    {
      "cell_type": "code",
      "source": [
        "\"\"\"\n",
        "Which adult male passenger (age ≥ 18 and Sex is ’male’) paid the highest fare relative to their\n",
        "class?\n",
        "\"\"\"\n",
        "import pandas as pd\n",
        "\n",
        "# Load the Titanic dataset\n",
        "df = pd.read_csv('/content/drive/MyDrive/DataSets/Titanic-Dataset.csv')\n",
        "\n",
        "# 1. Add a column to the Titanic dataset, fare per class, containing the fare divided by the passenger class (Fare / Pclass).\n",
        "df['fare_per_class'] = df['Fare'] / df['Pclass']\n",
        "\n",
        "# 2. Subset rows where the passenger is male (Sex is 'male') and an adult (Age is greater than or equal to 18), assigning this to adult males.\n",
        "adult_males = df[(df['Sex'] == 'male') & (df['Age'] >= 18)]\n",
        "\n",
        "# 3. Sort adult males by descending fare per class, assigning this to adult males sorted.\n",
        "adult_males_srt = adult_males.sort_values(by='fare_per_class', ascending=False)\n",
        "\n",
        "# 4. Select only the Name, Age, and fare per class columns of adult males sorted and save the result as result.\n",
        "result = adult_males_srt[['Name', 'Age', 'fare_per_class']]\n",
        "\n",
        "# 5. Look at the result\n",
        "print(result.head())\n"
      ],
      "metadata": {
        "colab": {
          "base_uri": "https://localhost:8080/"
        },
        "id": "gl2kG8wD2pWF",
        "outputId": "6a66d9ad-cd86-409b-dcf6-ed53b8accb6f"
      },
      "execution_count": 3,
      "outputs": [
        {
          "output_type": "stream",
          "name": "stdout",
          "text": [
            "                                   Name   Age  fare_per_class\n",
            "737              Lesurer, Mr. Gustave J  35.0        512.3292\n",
            "679  Cardeza, Mr. Thomas Drake Martinez  36.0        512.3292\n",
            "27       Fortune, Mr. Charles Alexander  19.0        263.0000\n",
            "438                   Fortune, Mr. Mark  64.0        263.0000\n",
            "118            Baxter, Mr. Quigg Edmond  24.0        247.5208\n"
          ]
        }
      ]
    },
    {
      "cell_type": "code",
      "source": [
        "\"\"\"\n",
        "What percent of the total fare revenue came from each passenger class?\n",
        "\"\"\"\n",
        "import pandas as pd\n",
        "\n",
        "df = pd.read_csv('/content/drive/MyDrive/DataSets/Titanic-Dataset.csv')\n",
        "\n",
        "# Calculate the total Fare paid across all passengers in the Titanic dataset.\n",
        "total_fare = df['Fare'].sum()\n",
        "\n",
        "# Subset for passengers in each class and calculate their total fare.\n",
        "first_class_fare = df[df['Pclass'] == 1]['Fare'].sum()\n",
        "second_class_fare = df[df['Pclass'] == 2]['Fare'].sum()\n",
        "third_class_fare = df[df['Pclass'] == 3]['Fare'].sum()\n",
        "\n",
        "# Combine the fare totals from first, second, and third classes into a list.\n",
        "fare_totals = [first_class_fare, second_class_fare, third_class_fare]\n",
        "\n",
        "# Calculate the percentage of fare revenue from each class.\n",
        "fare_percentages = [(fare / total_fare) * 100 for fare in fare_totals]\n",
        "\n",
        "# Print the results.\n",
        "class_labels = ['First Class', 'Second Class', 'Third Class']\n",
        "for cls, percent in zip(class_labels, fare_percentages):\n",
        "    print(f\"{cls}: {percent:.2f}% of total fare revenue\")\n"
      ],
      "metadata": {
        "colab": {
          "base_uri": "https://localhost:8080/"
        },
        "id": "tMO-ovXj2ZSW",
        "outputId": "a44560d7-707a-47a4-c9f2-3f752b06b2a7"
      },
      "execution_count": null,
      "outputs": [
        {
          "output_type": "stream",
          "name": "stdout",
          "text": [
            "First Class: 63.35% of total fare revenue\n",
            "Second Class: 13.25% of total fare revenue\n",
            "Third Class: 23.40% of total fare revenue\n"
          ]
        }
      ]
    },
    {
      "cell_type": "code",
      "source": [
        "\"\"\"\n",
        "What percent of the total number of passengers on the Titanic belonged to each age group\n",
        "(e.g., child, adult, senior)?\n",
        "\"\"\"\n",
        "import pandas as pd\n",
        "\n",
        "df = pd.read_csv('/content/drive/MyDrive/DataSets/Titanic-Dataset.csv')\n",
        "\n",
        "# Create a new column, age group, categorizing passengers into \"child\", \"adult\", and \"senior\".\n",
        "def categorize_age(age):\n",
        "    if pd.isna(age):\n",
        "        return 'unknown'\n",
        "    elif age < 18:\n",
        "        return 'child'\n",
        "    elif age < 65:\n",
        "        return 'adult'\n",
        "    else:\n",
        "        return 'senior'\n",
        "\n",
        "df['age_group'] = df['Age'].apply(categorize_age)\n",
        "\n",
        "# Calculate the total number of passengers on the Titanic.\n",
        "total_passengers = len(df)\n",
        "\n",
        "# Count the number of passengers in each age group.\n",
        "age_group_counts = df['age_group'].value_counts()\n",
        "\n",
        "# Calculate the proportion of passengers in each age group\n",
        "age_group_percentages = (age_group_counts / total_passengers) * 100\n",
        "\n",
        "# Display the results as percent\n",
        "for group, percentage in age_group_percentages.items():\n",
        "    print(f\"{group.capitalize()}: {percentage:.2f}%\")\n"
      ],
      "metadata": {
        "colab": {
          "base_uri": "https://localhost:8080/"
        },
        "id": "pbVfIQ7e28KN",
        "outputId": "06d5ca73-6d9d-4d45-847e-394fddd498d9"
      },
      "execution_count": null,
      "outputs": [
        {
          "output_type": "stream",
          "name": "stdout",
          "text": [
            "Adult: 66.22%\n",
            "Unknown: 19.87%\n",
            "Child: 12.68%\n",
            "Senior: 1.23%\n"
          ]
        }
      ]
    }
  ]
}