{
  "nbformat": 4,
  "nbformat_minor": 0,
  "metadata": {
    "colab": {
      "provenance": []
    },
    "kernelspec": {
      "name": "python3",
      "display_name": "Python 3"
    },
    "language_info": {
      "name": "python"
    }
  },
  "cells": [
    {
      "cell_type": "code",
      "execution_count": 1,
      "metadata": {
        "colab": {
          "base_uri": "https://localhost:8080/"
        },
        "id": "xmw2xvVRO_ni",
        "outputId": "883287f6-be84-4ace-8873-d9f1abbd8735"
      },
      "outputs": [
        {
          "output_type": "stream",
          "name": "stdout",
          "text": [
            "Top 5 data of dataset: \n",
            "   Math  Reading  Writing\n",
            "0    48       68       63\n",
            "1    62       81       72\n",
            "2    79       80       78\n",
            "3    76       83       79\n",
            "4    59       64       62\n",
            "\n",
            "Bottom 5 data of dataset: \n",
            "     Math  Reading  Writing\n",
            "995    72       74       70\n",
            "996    73       86       90\n",
            "997    89       87       94\n",
            "998    83       82       78\n",
            "999    66       66       72\n",
            "\n",
            "Information of dataset:\n",
            "<bound method DataFrame.info of      Math  Reading  Writing\n",
            "0      48       68       63\n",
            "1      62       81       72\n",
            "2      79       80       78\n",
            "3      76       83       79\n",
            "4      59       64       62\n",
            "..    ...      ...      ...\n",
            "995    72       74       70\n",
            "996    73       86       90\n",
            "997    89       87       94\n",
            "998    83       82       78\n",
            "999    66       66       72\n",
            "\n",
            "[1000 rows x 3 columns]>\n",
            "\n",
            "Descriptive info about the dataset:\n",
            "<bound method NDFrame.describe of      Math  Reading  Writing\n",
            "0      48       68       63\n",
            "1      62       81       72\n",
            "2      79       80       78\n",
            "3      76       83       79\n",
            "4      59       64       62\n",
            "..    ...      ...      ...\n",
            "995    72       74       70\n",
            "996    73       86       90\n",
            "997    89       87       94\n",
            "998    83       82       78\n",
            "999    66       66       72\n",
            "\n",
            "[1000 rows x 3 columns]>\n"
          ]
        }
      ],
      "source": [
        "#sidant shrestha\n",
        "#2408637\n",
        "import pandas as pd\n",
        "df = pd.read_csv(\"/content/drive/MyDrive/DataSets/student.csv\")\n",
        "\n",
        "#print top5 of the dataset\n",
        "print(\"Top 5 data of dataset: \")\n",
        "print(df.head())\n",
        "\n",
        "#print bottom5 of dataset\n",
        "print(\"\\nBottom 5 data of dataset: \")\n",
        "print(df.tail())\n",
        "\n",
        "#print information of dataset\n",
        "print(\"\\nInformation of dataset:\")\n",
        "print(df.info)\n",
        "\n",
        "#print descriptive info about the dataset\n",
        "print(\"\\nDescriptive info about the dataset:\")\n",
        "print(df.describe)"
      ]
    },
    {
      "cell_type": "code",
      "source": [
        "# Define the label column name\n",
        "label_column = 'Writing'\n",
        "\n",
        "# Separate features (X) and label (Y)\n",
        "X = df.drop(columns=[label_column])  # Drop the label column to get features\n",
        "Y = df[label_column]  # Extract the label column\n",
        "\n",
        "print(\"\\nFeatures (X):\")\n",
        "print(X.head())\n",
        "print(\"\\nLabel (Y):\")\n",
        "print(Y.head())"
      ],
      "metadata": {
        "colab": {
          "base_uri": "https://localhost:8080/"
        },
        "id": "wLU_xVsAPCEs",
        "outputId": "6cccf504-7703-43b6-a2bd-22c2ebb5bcee"
      },
      "execution_count": 2,
      "outputs": [
        {
          "output_type": "stream",
          "name": "stdout",
          "text": [
            "\n",
            "Features (X):\n",
            "   Math  Reading\n",
            "0    48       68\n",
            "1    62       81\n",
            "2    79       80\n",
            "3    76       83\n",
            "4    59       64\n",
            "\n",
            "Label (Y):\n",
            "0    63\n",
            "1    72\n",
            "2    78\n",
            "3    79\n",
            "4    62\n",
            "Name: Writing, dtype: int64\n"
          ]
        }
      ]
    },
    {
      "cell_type": "code",
      "source": [
        "import numpy as np\n",
        "\n",
        "# Define the dimensions\n",
        "d = 3  # Number of features\n",
        "n = 5  # Number of samples/examples\n",
        "\n",
        "# Create W (weight vector) of shape (d, 1)\n",
        "W = np.random.rand(d, 1)\n",
        "\n",
        "# Create X (feature matrix) of shape (d, n)\n",
        "X = np.random.rand(d, n)\n",
        "\n",
        "# Compute Y = W^T X\n",
        "Y = np.dot(W.T, X)\n",
        "\n",
        "# Display matrices\n",
        "print(\"Matrix W (weights):\")\n",
        "print(W)\n",
        "\n",
        "print(\"\\nMatrix X (features):\")\n",
        "print(X)\n",
        "\n",
        "print(\"\\nMatrix Y (output):\")\n",
        "print(Y)\n"
      ],
      "metadata": {
        "colab": {
          "base_uri": "https://localhost:8080/"
        },
        "id": "BciUPYAEPCHY",
        "outputId": "64d1516c-beda-4c7f-95d8-f314718e5b57"
      },
      "execution_count": 3,
      "outputs": [
        {
          "output_type": "stream",
          "name": "stdout",
          "text": [
            "Matrix W (weights):\n",
            "[[0.13370801]\n",
            " [0.4592906 ]\n",
            " [0.82995029]]\n",
            "\n",
            "Matrix X (features):\n",
            "[[0.48129828 0.25497554 0.25203021 0.47496192 0.15215194]\n",
            " [0.39076744 0.98393524 0.51862867 0.31062321 0.61325906]\n",
            " [0.87773453 0.33614798 0.66376253 0.78930559 0.74059902]]\n",
            "\n",
            "Matrix Y (output):\n",
            "[[0.97230528 0.76499059 0.82278964 0.86125694 0.91666842]]\n"
          ]
        }
      ]
    },
    {
      "cell_type": "code",
      "source": [
        "import numpy as np\n",
        "from sklearn.model_selection import train_test_split\n",
        "\n",
        "# Example dataset\n",
        "X = np.random.rand(100, 10)  # 100 samples, 10 features\n",
        "Y = np.random.randint(0, 2, size=(100,))  # 100 binary labels\n",
        "\n",
        "print(\"Shape of X:\", X.shape)\n",
        "print(\"Shape of Y:\", Y.shape)\n",
        "\n",
        "# Split the dataset\n",
        "X_train, X_test, Y_train, Y_test = train_test_split(X, Y, test_size=0.2, random_state=42)\n",
        "\n",
        "# Display the shapes of the splits\n",
        "print(\"Training set:\")\n",
        "print(f\"Features (X_train): {X_train.shape}, Labels (Y_train): {Y_train.shape}\")\n",
        "\n",
        "print(\"\\nTest set:\")\n",
        "print(f\"Features (X_test): {X_test.shape}, Labels (Y_test): {Y_test.shape}\")\n"
      ],
      "metadata": {
        "colab": {
          "base_uri": "https://localhost:8080/"
        },
        "id": "dvgya2OOPCJi",
        "outputId": "80961a7c-fec1-40e6-8cb9-6b166106afa6"
      },
      "execution_count": 5,
      "outputs": [
        {
          "output_type": "stream",
          "name": "stdout",
          "text": [
            "Shape of X: (100, 10)\n",
            "Shape of Y: (100,)\n",
            "Training set:\n",
            "Features (X_train): (80, 10), Labels (Y_train): (80,)\n",
            "\n",
            "Test set:\n",
            "Features (X_test): (20, 10), Labels (Y_test): (20,)\n"
          ]
        }
      ]
    },
    {
      "cell_type": "code",
      "source": [
        "import pandas as pd\n",
        "df = pd.read_csv(\"/content/drive/MyDrive/DataSets/student.csv\")\n",
        "\n",
        "# Define the label column name\n",
        "label_column = 'Writing'\n",
        "\n",
        "# Separate features (X) and label (Y)\n",
        "X = df.drop(columns=[label_column])\n",
        "Y = df[label_column]\n",
        "\n",
        "print(\"\\nFeatures (X):\")\n",
        "print(X.head())\n",
        "\n",
        "print(\"\\nLabel (Y):\")\n",
        "print(Y.head())\n",
        "\n"
      ],
      "metadata": {
        "colab": {
          "base_uri": "https://localhost:8080/"
        },
        "id": "CGObLIThPCM9",
        "outputId": "256b6efc-6e07-4648-92f2-cb49ce39fe08"
      },
      "execution_count": 7,
      "outputs": [
        {
          "output_type": "stream",
          "name": "stdout",
          "text": [
            "\n",
            "Features (X):\n",
            "   Math  Reading\n",
            "0    48       68\n",
            "1    62       81\n",
            "2    79       80\n",
            "3    76       83\n",
            "4    59       64\n",
            "\n",
            "Label (Y):\n",
            "0    63\n",
            "1    72\n",
            "2    78\n",
            "3    79\n",
            "4    62\n",
            "Name: Writing, dtype: int64\n"
          ]
        }
      ]
    },
    {
      "cell_type": "code",
      "source": [
        "from sklearn.model_selection import train_test_split\n",
        "\n",
        "# Split the dataset into training and test sets using an 80-20 split\n",
        "test_size = 0.2\n",
        "\n",
        "# Perform the split\n",
        "X_train, X_test, Y_train, Y_test = train_test_split(X, Y, test_size=test_size, random_state=42)\n",
        "\n",
        "# Display the shapes of the splits\n",
        "print(f\"Training set shape (X_train, Y_train): {X_train.shape}, {Y_train.shape}\")\n",
        "print(f\"Test set shape (X_test, Y_test): {X_test.shape}, {Y_test.shape}\")\n"
      ],
      "metadata": {
        "colab": {
          "base_uri": "https://localhost:8080/"
        },
        "id": "QPzZgNZdPJeB",
        "outputId": "e829bdad-44b7-41ff-b4ec-c2b9133777e8"
      },
      "execution_count": 8,
      "outputs": [
        {
          "output_type": "stream",
          "name": "stdout",
          "text": [
            "Training set shape (X_train, Y_train): (800, 2), (800,)\n",
            "Test set shape (X_test, Y_test): (200, 2), (200,)\n"
          ]
        }
      ]
    },
    {
      "cell_type": "code",
      "source": [
        "# Gradient Descent Function\n",
        "def gradient_descent(X, Y, learning_rate=0.01, iterations=1000):\n",
        "    m = len(Y)  # Number of samples\n",
        "    d = X.shape[1]  # Number of features\n",
        "    W = np.zeros(d)  # Initialize weight vector\n",
        "\n",
        "    # Gradient Descent Loop\n",
        "    for _ in range(iterations):\n",
        "        # Compute predictions\n",
        "        predictions = np.dot(X, W)\n",
        "\n",
        "        # Calculate gradient\n",
        "        gradient = - (2/m) * np.dot(X.T, (Y - predictions))\n",
        "\n",
        "        # Update weights\n",
        "        W -= learning_rate * gradient\n",
        "\n",
        "    return W\n",
        "\n",
        "# Train the model using gradient descent on the training set\n",
        "W = gradient_descent(X_train.values, Y_train.values, learning_rate=0.01, iterations=1000)\n",
        "\n",
        "# Display learned weights\n",
        "print(f\"Learned weights: {W}\")\n"
      ],
      "metadata": {
        "colab": {
          "base_uri": "https://localhost:8080/"
        },
        "id": "pC-1FthvPMZB",
        "outputId": "2e62d068-775b-4077-fe57-671967b1aafe"
      },
      "execution_count": 9,
      "outputs": [
        {
          "output_type": "stream",
          "name": "stdout",
          "text": [
            "Learned weights: [nan nan]\n"
          ]
        },
        {
          "output_type": "stream",
          "name": "stderr",
          "text": [
            "<ipython-input-9-667e34756a9f>:16: RuntimeWarning: invalid value encountered in subtract\n",
            "  W -= learning_rate * gradient\n"
          ]
        }
      ]
    },
    {
      "cell_type": "code",
      "source": [
        "from sklearn.metrics import mean_squared_error, r2_score\n",
        "\n",
        "# Predict using the trained model\n",
        "Y_pred = np.dot(X_test, W)\n",
        "\n",
        "# If Y_pred contains NaN, replace NaNs with 0 (or any other appropriate value)\n",
        "Y_pred = np.nan_to_num(Y_pred, nan=0.0)\n",
        "\n",
        "# Calculate RMSE (Root Mean Squared Error)\n",
        "rmse = np.sqrt(mean_squared_error(Y_test, Y_pred))\n",
        "\n",
        "# Calculate R² (R-squared)\n",
        "r2 = r2_score(Y_test, Y_pred)\n",
        "\n",
        "# Display the evaluation metrics\n",
        "print(f\"RMSE: {rmse}\")\n",
        "print(f\"R²: {r2}\")\n"
      ],
      "metadata": {
        "colab": {
          "base_uri": "https://localhost:8080/"
        },
        "id": "H5GIijTiPMck",
        "outputId": "d7e83c00-db1b-430c-c454-4cb7afcdab1b"
      },
      "execution_count": 10,
      "outputs": [
        {
          "output_type": "stream",
          "name": "stdout",
          "text": [
            "RMSE: 70.19622496972326\n",
            "R²: -18.685008543136547\n"
          ]
        }
      ]
    },
    {
      "cell_type": "code",
      "source": [
        "# Experiment with different learning rates\n",
        "learning_rates = [0.001, 0.01, 0.1, 1, 10]\n",
        "results = {}\n",
        "\n",
        "for lr in learning_rates:\n",
        "    # Train the model using gradient descent on the training set\n",
        "    W = gradient_descent(X_train.values, Y_train.values, learning_rate=lr, iterations=1000)\n",
        "\n",
        "    # Predict using the trained model\n",
        "    Y_pred = np.dot(X_test, W)\n",
        "\n",
        "    # If Y_pred contains NaN, replace NaNs with 0 (or any other appropriate value)\n",
        "    Y_pred = np.nan_to_num(Y_pred, nan=0.0)\n",
        "\n",
        "    # Calculate RMSE (Root Mean Squared Error)\n",
        "    rmse = np.sqrt(mean_squared_error(Y_test, Y_pred))\n",
        "\n",
        "    # Calculate R² (R-squared)\n",
        "    r2 = r2_score(Y_test, Y_pred)\n",
        "\n",
        "    # Store the results\n",
        "    results[lr] = {'RMSE': rmse, 'R²': r2}\n",
        "\n",
        "# Display the results for each learning rate\n",
        "for lr, result in results.items():\n",
        "    print(f\"Learning Rate: {lr}\")\n",
        "    print(f\"RMSE: {result['RMSE']}\")\n",
        "    print(f\"R²: {result['R²']}\")\n",
        "    print('-' * 40)\n"
      ],
      "metadata": {
        "colab": {
          "base_uri": "https://localhost:8080/"
        },
        "id": "GYeMrlTiPPQe",
        "outputId": "743e0a9e-a5cc-419a-9803-307f64ec79eb"
      },
      "execution_count": 11,
      "outputs": [
        {
          "output_type": "stream",
          "name": "stdout",
          "text": [
            "Learning Rate: 0.001\n",
            "RMSE: 70.19622496972326\n",
            "R²: -18.685008543136547\n",
            "----------------------------------------\n",
            "Learning Rate: 0.01\n",
            "RMSE: 70.19622496972326\n",
            "R²: -18.685008543136547\n",
            "----------------------------------------\n",
            "Learning Rate: 0.1\n",
            "RMSE: 70.19622496972326\n",
            "R²: -18.685008543136547\n",
            "----------------------------------------\n",
            "Learning Rate: 1\n",
            "RMSE: 70.19622496972326\n",
            "R²: -18.685008543136547\n",
            "----------------------------------------\n",
            "Learning Rate: 10\n",
            "RMSE: 70.19622496972326\n",
            "R²: -18.685008543136547\n",
            "----------------------------------------\n"
          ]
        },
        {
          "output_type": "stream",
          "name": "stderr",
          "text": [
            "<ipython-input-9-667e34756a9f>:16: RuntimeWarning: invalid value encountered in subtract\n",
            "  W -= learning_rate * gradient\n",
            "<ipython-input-9-667e34756a9f>:16: RuntimeWarning: invalid value encountered in subtract\n",
            "  W -= learning_rate * gradient\n",
            "<ipython-input-9-667e34756a9f>:16: RuntimeWarning: invalid value encountered in subtract\n",
            "  W -= learning_rate * gradient\n",
            "<ipython-input-9-667e34756a9f>:16: RuntimeWarning: invalid value encountered in subtract\n",
            "  W -= learning_rate * gradient\n",
            "<ipython-input-9-667e34756a9f>:16: RuntimeWarning: invalid value encountered in subtract\n",
            "  W -= learning_rate * gradient\n"
          ]
        }
      ]
    }
  ]
}