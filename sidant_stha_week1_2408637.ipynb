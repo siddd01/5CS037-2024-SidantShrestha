{
 "cells": [
  {
   "cell_type": "code",
   "execution_count": 1,
   "metadata": {},
   "outputs": [],
   "source": [
    "import numpy as np"
   ]
  },
  {
   "cell_type": "code",
   "execution_count": 102,
   "metadata": {},
   "outputs": [
    {
     "name": "stdout",
     "output_type": "stream",
     "text": [
      "Empty Array:\n",
      " [[-2.    1.  ]\n",
      " [ 1.75 -0.75]]\n"
     ]
    }
   ],
   "source": [
    "empty_array = np.empty((2, 2))\n",
    "print(\"Empty Array:\\n\", empty_array)"
   ]
  },
  {
   "cell_type": "code",
   "execution_count": 103,
   "metadata": {},
   "outputs": [
    {
     "name": "stdout",
     "output_type": "stream",
     "text": [
      "All Ones Array:\n",
      " [[1. 1.]\n",
      " [1. 1.]\n",
      " [1. 1.]\n",
      " [1. 1.]]\n"
     ]
    }
   ],
   "source": [
    "ones_array = np.ones((4, 2))\n",
    "print(\"All Ones Array:\\n\", ones_array)"
   ]
  },
  {
   "cell_type": "code",
   "execution_count": 104,
   "metadata": {},
   "outputs": [
    {
     "name": "stdout",
     "output_type": "stream",
     "text": [
      "Filled Array:\n",
      " [[7 7 7]\n",
      " [7 7 7]\n",
      " [7 7 7]]\n"
     ]
    }
   ],
   "source": [
    "filled_array = np.full((3, 3), 7)\n",
    "print(\"Filled Array:\\n\", filled_array)"
   ]
  },
  {
   "cell_type": "code",
   "execution_count": 105,
   "metadata": {},
   "outputs": [
    {
     "name": "stdout",
     "output_type": "stream",
     "text": [
      "Zeros Like Array:\n",
      " [[0 0]\n",
      " [0 0]]\n"
     ]
    }
   ],
   "source": [
    "array_for_zeros_like = np.array([[1, 2], [3, 4]])\n",
    "zeros_like_array = np.zeros_like(array_for_zeros_like)\n",
    "print(\"Zeros Like Array:\\n\", zeros_like_array)"
   ]
  },
  {
   "cell_type": "code",
   "execution_count": 106,
   "metadata": {},
   "outputs": [
    {
     "name": "stdout",
     "output_type": "stream",
     "text": [
      "Ones Like Array:\n",
      " [[1 1]\n",
      " [1 1]]\n"
     ]
    }
   ],
   "source": [
    "ones_like_array = np.ones_like(array_for_zeros_like)\n",
    "print(\"Ones Like Array:\\n\", ones_like_array)"
   ]
  },
  {
   "cell_type": "code",
   "execution_count": 107,
   "metadata": {},
   "outputs": [
    {
     "name": "stdout",
     "output_type": "stream",
     "text": [
      "Numpy Array:\n",
      " [1 2 3 4]\n"
     ]
    }
   ],
   "source": [
    "new_list = [1, 2, 3, 4]\n",
    "numpy_array = np.array(new_list)\n",
    "print(\"Numpy Array:\\n\", numpy_array)"
   ]
  },
  {
   "cell_type": "code",
   "execution_count": 108,
   "metadata": {},
   "outputs": [
    {
     "name": "stdout",
     "output_type": "stream",
     "text": [
      "Array from 10 to 49:\n",
      " [10 11 12 13 14 15 16 17 18 19 20 21 22 23 24 25 26 27 28 29 30 31 32 33\n",
      " 34 35 36 37 38 39 40 41 42 43 44 45 46 47 48 49]\n"
     ]
    }
   ],
   "source": [
    "arr1 = np.arange(10, 50)\n",
    "print(\"Array from 10 to 49:\\n\", arr1)"
   ]
  },
  {
   "cell_type": "code",
   "execution_count": 109,
   "metadata": {},
   "outputs": [
    {
     "name": "stdout",
     "output_type": "stream",
     "text": [
      "3x3 Matrix:\n",
      " [[0 1 2]\n",
      " [3 4 5]\n",
      " [6 7 8]]\n"
     ]
    }
   ],
   "source": [
    "arr2 = np.arange(9).reshape(3, 3)\n",
    "print(\"3x3 Matrix:\\n\", arr2)\n"
   ]
  },
  {
   "cell_type": "code",
   "execution_count": 110,
   "metadata": {},
   "outputs": [
    {
     "name": "stdout",
     "output_type": "stream",
     "text": [
      "3x3 Identity Matrix:\n",
      " [[1. 0. 0.]\n",
      " [0. 1. 0.]\n",
      " [0. 0. 1.]]\n"
     ]
    }
   ],
   "source": [
    "identity_matrix = np.eye(3)\n",
    "print(\"3x3 Identity Matrix:\\n\", identity_matrix)"
   ]
  },
  {
   "cell_type": "code",
   "execution_count": 111,
   "metadata": {},
   "outputs": [
    {
     "name": "stdout",
     "output_type": "stream",
     "text": [
      "Mean of Random Array: 0.4013791246486956\n"
     ]
    }
   ],
   "source": [
    "random_array = np.random.random(30)\n",
    "mean_random_array = random_array.mean()\n",
    "print(\"Mean of Random Array:\", mean_random_array)"
   ]
  },
  {
   "cell_type": "code",
   "execution_count": 113,
   "metadata": {},
   "outputs": [
    {
     "name": "stdout",
     "output_type": "stream",
     "text": [
      "Min Value: 0.000563732058073918 \n",
      "Max Value: 0.9859782329313361\n"
     ]
    }
   ],
   "source": [
    "random_10x10 = np.random.random((10, 10))\n",
    "min_value = random_10x10.min()\n",
    "max_value = random_10x10.max()\n",
    "print(\"Min Value:\", min_value, \"\\nMax Value:\", max_value)"
   ]
  },
  {
   "cell_type": "code",
   "execution_count": 114,
   "metadata": {},
   "outputs": [
    {
     "name": "stdout",
     "output_type": "stream",
     "text": [
      "Zero Array with 5th Element as 1:\n",
      " [0. 0. 0. 0. 1. 0. 0. 0. 0. 0.]\n"
     ]
    }
   ],
   "source": [
    "zero_array = np.zeros(10)\n",
    "zero_array[4] = 1\n",
    "print(\"Zero Array with 5th Element as 1:\\n\", zero_array)"
   ]
  },
  {
   "cell_type": "code",
   "execution_count": 18,
   "metadata": {},
   "outputs": [
    {
     "data": {
      "text/plain": [
       "array([0., 0., 0., 0., 0., 1., 0., 0., 0., 0.])"
      ]
     },
     "execution_count": 18,
     "metadata": {},
     "output_type": "execute_result"
    }
   ],
   "source": [
    "zero_array"
   ]
  },
  {
   "cell_type": "code",
   "execution_count": 115,
   "metadata": {},
   "outputs": [
    {
     "name": "stdout",
     "output_type": "stream",
     "text": [
      "Reversed Array:\n",
      " [0 4 0 0 2 1]\n"
     ]
    }
   ],
   "source": [
    "arr = np.array([1, 2, 0, 0, 4, 0])\n",
    "reversed_arr = arr[::-1]\n",
    "print(\"Reversed Array:\\n\", reversed_arr)"
   ]
  },
  {
   "cell_type": "code",
   "execution_count": 21,
   "metadata": {},
   "outputs": [
    {
     "data": {
      "text/plain": [
       "array([[1., 1., 1., 1., 1.],\n",
       "       [1., 1., 1., 1., 1.],\n",
       "       [1., 1., 1., 1., 1.],\n",
       "       [1., 1., 1., 1., 1.],\n",
       "       [1., 1., 1., 1., 1.]])"
      ]
     },
     "execution_count": 21,
     "metadata": {},
     "output_type": "execute_result"
    }
   ],
   "source": [
    "special = np.ones((5,5))\n",
    "special"
   ]
  },
  {
   "cell_type": "code",
   "execution_count": 22,
   "metadata": {},
   "outputs": [],
   "source": [
    "special[1:-1,1:-1]=0"
   ]
  },
  {
   "cell_type": "code",
   "execution_count": 116,
   "metadata": {},
   "outputs": [
    {
     "name": "stdout",
     "output_type": "stream",
     "text": [
      "2D Array with Border 1 and Inside 0:\n",
      " [[1. 1. 1. 1. 1.]\n",
      " [1. 0. 0. 0. 1.]\n",
      " [1. 0. 0. 0. 1.]\n",
      " [1. 0. 0. 0. 1.]\n",
      " [1. 1. 1. 1. 1.]]\n"
     ]
    }
   ],
   "source": [
    "print(\"2D Array with Border 1 and Inside 0:\\n\", special)\n"
   ]
  },
  {
   "cell_type": "code",
   "execution_count": 118,
   "metadata": {},
   "outputs": [
    {
     "data": {
      "text/plain": [
       "array([[0, 0, 0, 0, 0, 0, 0, 0],\n",
       "       [0, 0, 0, 0, 0, 0, 0, 0],\n",
       "       [0, 0, 0, 0, 0, 0, 0, 0],\n",
       "       [0, 0, 0, 0, 0, 0, 0, 0],\n",
       "       [0, 0, 0, 0, 0, 0, 0, 0],\n",
       "       [0, 0, 0, 0, 0, 0, 0, 0],\n",
       "       [0, 0, 0, 0, 0, 0, 0, 0],\n",
       "       [0, 0, 0, 0, 0, 0, 0, 0]])"
      ]
     },
     "execution_count": 118,
     "metadata": {},
     "output_type": "execute_result"
    }
   ],
   "source": [
    "checkboard = np.zeros((8,8),dtype=\"int\")\n",
    "checkboard"
   ]
  },
  {
   "cell_type": "code",
   "execution_count": 119,
   "metadata": {},
   "outputs": [],
   "source": [
    "checkboard[1::2, ::2] = 1\n",
    "checkboard[::2, 1::2] = 1"
   ]
  },
  {
   "cell_type": "code",
   "execution_count": 121,
   "metadata": {},
   "outputs": [
    {
     "name": "stdout",
     "output_type": "stream",
     "text": [
      "Checkerboard Pattern:\n",
      " [[0 1 0 1 0 1 0 1]\n",
      " [1 0 1 0 1 0 1 0]\n",
      " [0 1 0 1 0 1 0 1]\n",
      " [1 0 1 0 1 0 1 0]\n",
      " [0 1 0 1 0 1 0 1]\n",
      " [1 0 1 0 1 0 1 0]\n",
      " [0 1 0 1 0 1 0 1]\n",
      " [1 0 1 0 1 0 1 0]]\n"
     ]
    }
   ],
   "source": [
    "print(\"Checkerboard Pattern:\\n\", checkboard)\n"
   ]
  },
  {
   "cell_type": "markdown",
   "metadata": {},
   "source": [
    "## **Array Operations**"
   ]
  },
  {
   "cell_type": "code",
   "execution_count": 122,
   "metadata": {},
   "outputs": [],
   "source": [
    "x = np.array([[1, 2], [3, 5]])\n",
    "y = np.array([[5, 6], [7, 8]])\n",
    "v = np.array([9, 10])\n",
    "w = np.array([11, 12])"
   ]
  },
  {
   "cell_type": "code",
   "execution_count": 123,
   "metadata": {},
   "outputs": [
    {
     "name": "stdout",
     "output_type": "stream",
     "text": [
      "Addition of x and y:\n",
      " [[ 6  8]\n",
      " [10 13]]\n"
     ]
    }
   ],
   "source": [
    "add_result = np.add(x, y)\n",
    "print(\"Addition of x and y:\\n\", add_result)"
   ]
  },
  {
   "cell_type": "code",
   "execution_count": 124,
   "metadata": {},
   "outputs": [
    {
     "name": "stdout",
     "output_type": "stream",
     "text": [
      "Subtraction of x and y:\n",
      " [[-4 -4]\n",
      " [-4 -3]]\n"
     ]
    }
   ],
   "source": [
    "subtract_result = np.subtract(x, y)\n",
    "print(\"Subtraction of x and y:\\n\", subtract_result)"
   ]
  },
  {
   "cell_type": "code",
   "execution_count": 125,
   "metadata": {},
   "outputs": [
    {
     "name": "stdout",
     "output_type": "stream",
     "text": [
      "Multiply x by 3:\n",
      " [[ 3  6]\n",
      " [ 9 15]]\n"
     ]
    }
   ],
   "source": [
    "multiply_result = x * 3\n",
    "print(\"Multiply x by 3:\\n\", multiply_result)"
   ]
  },
  {
   "cell_type": "code",
   "execution_count": 126,
   "metadata": {},
   "outputs": [
    {
     "name": "stdout",
     "output_type": "stream",
     "text": [
      "Square of x:\n",
      " [[ 1  4]\n",
      " [ 9 25]]\n"
     ]
    }
   ],
   "source": [
    "square_result = np.square(x)\n",
    "print(\"Square of x:\\n\", square_result)"
   ]
  },
  {
   "cell_type": "code",
   "execution_count": 127,
   "metadata": {},
   "outputs": [
    {
     "name": "stdout",
     "output_type": "stream",
     "text": [
      "Dot product of v and w: 219\n",
      "Dot product of x and v:\n",
      " [29 77]\n",
      "Dot product of x and y:\n",
      " [[19 22]\n",
      " [50 58]]\n"
     ]
    }
   ],
   "source": [
    "dot_vw = np.dot(v, w)\n",
    "dot_xv = np.dot(x, v)\n",
    "dot_xy = np.dot(x, y)\n",
    "print(\"Dot product of v and w:\", dot_vw)\n",
    "print(\"Dot product of x and v:\\n\", dot_xv)\n",
    "print(\"Dot product of x and y:\\n\", dot_xy)\n"
   ]
  },
  {
   "cell_type": "code",
   "execution_count": 129,
   "metadata": {},
   "outputs": [
    {
     "data": {
      "text/plain": [
       "array([[1, 2],\n",
       "       [3, 5],\n",
       "       [5, 6],\n",
       "       [7, 8]])"
      ]
     },
     "execution_count": 129,
     "metadata": {},
     "output_type": "execute_result"
    }
   ],
   "source": [
    "np.concatenate((x,y),axis=0)"
   ]
  },
  {
   "cell_type": "code",
   "execution_count": 38,
   "metadata": {},
   "outputs": [
    {
     "data": {
      "text/plain": [
       "array([ 9, 10, 11, 12])"
      ]
     },
     "execution_count": 38,
     "metadata": {},
     "output_type": "execute_result"
    }
   ],
   "source": [
    "np.hstack((v,w))"
   ]
  },
  {
   "cell_type": "code",
   "execution_count": 131,
   "metadata": {},
   "outputs": [
    {
     "name": "stdout",
     "output_type": "stream",
     "text": [
      "Error while concatenating x and v: all the input arrays must have same number of dimensions, but the array at index 0 has 2 dimension(s) and the array at index 1 has 1 dimension(s)\n"
     ]
    }
   ],
   "source": [
    "try:\n",
    "    concatenate_xv = np.concatenate((x, v), axis=1)\n",
    "except Exception as e:\n",
    "    print(\"Error while concatenating x and v:\", e)"
   ]
  },
  {
   "cell_type": "markdown",
   "metadata": {},
   "source": [
    "The error occurs because the shapes of x and v are incompatible for concatenation.\n",
    "\n",
    "x is a 2-dimensional array with shape (2, 2).\n",
    "v is a 1-dimensional array with shape (2,).\n",
    "When trying to concatenate arrays, NumPy expects the arrays to have matching dimensions. In this case, x has 2 dimensions, while v has only 1 dimension, leading to a ValueError."
   ]
  },
  {
   "cell_type": "markdown",
   "metadata": {},
   "source": [
    "## **Matrix Operations**"
   ]
  },
  {
   "cell_type": "code",
   "execution_count": 40,
   "metadata": {},
   "outputs": [],
   "source": [
    "A = np.array([[3,4],[7,8]])\n",
    "B = np.array([[5,3],[2,1]])"
   ]
  },
  {
   "cell_type": "markdown",
   "metadata": {},
   "source": [
    "**To Prove `A.A−1 = I.`**"
   ]
  },
  {
   "cell_type": "code",
   "execution_count": 44,
   "metadata": {},
   "outputs": [],
   "source": [
    "A_inv = np.linalg.inv(A)"
   ]
  },
  {
   "cell_type": "code",
   "execution_count": 45,
   "metadata": {},
   "outputs": [
    {
     "data": {
      "text/plain": [
       "array([[1.00000000e+00, 0.00000000e+00],\n",
       "       [1.77635684e-15, 1.00000000e+00]])"
      ]
     },
     "execution_count": 45,
     "metadata": {},
     "output_type": "execute_result"
    }
   ],
   "source": [
    "I = np.dot(A, A_inv)\n",
    "I"
   ]
  },
  {
   "cell_type": "code",
   "execution_count": 47,
   "metadata": {},
   "outputs": [
    {
     "name": "stdout",
     "output_type": "stream",
     "text": [
      "Matrix A:\n",
      " [[3 4]\n",
      " [7 8]]\n"
     ]
    }
   ],
   "source": [
    "print(\"Matrix A:\\n\", A)"
   ]
  },
  {
   "cell_type": "code",
   "execution_count": 48,
   "metadata": {},
   "outputs": [
    {
     "name": "stdout",
     "output_type": "stream",
     "text": [
      "Inverse of A (A_inv):\n",
      " [[-2.    1.  ]\n",
      " [ 1.75 -0.75]]\n"
     ]
    }
   ],
   "source": [
    "print(\"Inverse of A (A_inv):\\n\", A_inv)"
   ]
  },
  {
   "cell_type": "code",
   "execution_count": 49,
   "metadata": {},
   "outputs": [
    {
     "name": "stdout",
     "output_type": "stream",
     "text": [
      "Product of A and A_inv (A . A_inv):\n",
      " [[1.00000000e+00 0.00000000e+00]\n",
      " [1.77635684e-15 1.00000000e+00]]\n"
     ]
    }
   ],
   "source": [
    "print(\"Product of A and A_inv (A . A_inv):\\n\", I)"
   ]
  },
  {
   "cell_type": "code",
   "execution_count": 50,
   "metadata": {},
   "outputs": [
    {
     "name": "stdout",
     "output_type": "stream",
     "text": [
      "Is A . A_inv close to the identity matrix?  True\n"
     ]
    }
   ],
   "source": [
    "print(\"Is A . A_inv close to the identity matrix? \", np.allclose(I, np.eye(2)))"
   ]
  },
  {
   "cell_type": "markdown",
   "metadata": {},
   "source": [
    "Hence, Matrix A when multiplied with its inverse is very close to the Identity matrix of 2d. Therefore, they are equal."
   ]
  },
  {
   "cell_type": "markdown",
   "metadata": {},
   "source": [
    "**To Prove `AB ̸= BA`**"
   ]
  },
  {
   "cell_type": "code",
   "execution_count": 57,
   "metadata": {},
   "outputs": [
    {
     "name": "stdout",
     "output_type": "stream",
     "text": [
      "Product AB:\n",
      " [[23 13]\n",
      " [51 29]]\n"
     ]
    }
   ],
   "source": [
    "print(\"Product AB:\\n\", A@B)"
   ]
  },
  {
   "cell_type": "code",
   "execution_count": 56,
   "metadata": {},
   "outputs": [
    {
     "name": "stdout",
     "output_type": "stream",
     "text": [
      "Product BA:\n",
      " [[36 44]\n",
      " [13 16]]\n"
     ]
    }
   ],
   "source": [
    "print(\"Product BA:\\n\", B@A)"
   ]
  },
  {
   "cell_type": "code",
   "execution_count": 60,
   "metadata": {},
   "outputs": [
    {
     "name": "stdout",
     "output_type": "stream",
     "text": [
      "Is AB equal to BA? False\n"
     ]
    }
   ],
   "source": [
    "print(\"Is AB equal to BA?\", np.array_equal(A@B, B@A))"
   ]
  },
  {
   "cell_type": "markdown",
   "metadata": {},
   "source": [
    "Therefore, AB is not equal to BA."
   ]
  },
  {
   "cell_type": "markdown",
   "metadata": {},
   "source": [
    "**To Prove `(AB)T = BTAT`**"
   ]
  },
  {
   "cell_type": "code",
   "execution_count": 61,
   "metadata": {},
   "outputs": [],
   "source": [
    "AB_T = (A @ B).T\n",
    "BT_AT = B.T @ A.T"
   ]
  },
  {
   "cell_type": "code",
   "execution_count": 62,
   "metadata": {},
   "outputs": [
    {
     "name": "stdout",
     "output_type": "stream",
     "text": [
      "Matrix A:\n",
      " [[3 4]\n",
      " [7 8]]\n"
     ]
    }
   ],
   "source": [
    "print(\"Matrix A:\\n\", A)"
   ]
  },
  {
   "cell_type": "code",
   "execution_count": 63,
   "metadata": {},
   "outputs": [
    {
     "name": "stdout",
     "output_type": "stream",
     "text": [
      "Matrix B:\n",
      " [[5 3]\n",
      " [2 1]]\n"
     ]
    }
   ],
   "source": [
    "print(\"Matrix B:\\n\", B)"
   ]
  },
  {
   "cell_type": "code",
   "execution_count": 64,
   "metadata": {},
   "outputs": [
    {
     "name": "stdout",
     "output_type": "stream",
     "text": [
      "Transpose of AB:\n",
      " [[23 51]\n",
      " [13 29]]\n"
     ]
    }
   ],
   "source": [
    "print(\"Transpose of AB:\\n\", AB_T)"
   ]
  },
  {
   "cell_type": "code",
   "execution_count": 65,
   "metadata": {},
   "outputs": [
    {
     "name": "stdout",
     "output_type": "stream",
     "text": [
      "Product of B^T and A^T:\n",
      " [[23 51]\n",
      " [13 29]]\n"
     ]
    }
   ],
   "source": [
    "print(\"Product of B^T and A^T:\\n\", BT_AT)"
   ]
  },
  {
   "cell_type": "code",
   "execution_count": 67,
   "metadata": {},
   "outputs": [
    {
     "name": "stdout",
     "output_type": "stream",
     "text": [
      "Is AB Transpose equal to B Transpose A Transpose? True\n"
     ]
    }
   ],
   "source": [
    "print(\"Is AB Transpose equal to B Transpose A Transpose?\", np.array_equal(AB_T, BT_AT))"
   ]
  },
  {
   "cell_type": "markdown",
   "metadata": {},
   "source": [
    "Hence, AB Transpose is equal to B Transpose A Transpose."
   ]
  },
  {
   "cell_type": "markdown",
   "metadata": {},
   "source": [
    "- 2x − 3y + z = −1\n",
    "- x − y + 2z = −3\n",
    "- 3x + y − z = 9"
   ]
  },
  {
   "cell_type": "code",
   "execution_count": 69,
   "metadata": {},
   "outputs": [],
   "source": [
    "A = np.array([[2, -3, 1], [1, -1, 2], [3, 1, -1]])\n",
    "B = np.array([-1, -3, 9])"
   ]
  },
  {
   "cell_type": "code",
   "execution_count": 70,
   "metadata": {},
   "outputs": [],
   "source": [
    "A_inv = np.linalg.inv(A)"
   ]
  },
  {
   "cell_type": "code",
   "execution_count": 72,
   "metadata": {},
   "outputs": [],
   "source": [
    "X = np.dot(A_inv, B)"
   ]
  },
  {
   "cell_type": "code",
   "execution_count": 75,
   "metadata": {},
   "outputs": [
    {
     "name": "stdout",
     "output_type": "stream",
     "text": [
      "Solution: x = 2.0, y = 1.0, z = -2.0\n"
     ]
    }
   ],
   "source": [
    "print(f\"Solution: x = {X[0]}, y = {X[1]}, z = {X[2]}\")"
   ]
  },
  {
   "cell_type": "markdown",
   "metadata": {},
   "source": [
    "### Final Solution:\n",
    "- \\( x = 2.0 \\)\n",
    "- \\( y = 1.0 \\)\n",
    "- \\( z = -2.0 \\)\n"
   ]
  },
  {
   "cell_type": "code",
   "execution_count": 79,
   "metadata": {},
   "outputs": [],
   "source": [
    "import time\n",
    "import random"
   ]
  },
  {
   "cell_type": "markdown",
   "metadata": {},
   "source": [
    "**1. Element-wise Addition:**"
   ]
  },
  {
   "cell_type": "code",
   "execution_count": 95,
   "metadata": {},
   "outputs": [
    {
     "name": "stdout",
     "output_type": "stream",
     "text": [
      "Python list time:  0.0398259162902832\n",
      "NumPy array time:  0.001291036605834961\n",
      "NumPy array is 30 times faster\n"
     ]
    }
   ],
   "source": [
    "py_list1 = [random.random() for _ in range(1000000)]\n",
    "py_list2 = [random.random() for _ in range(1000000)]\n",
    "\n",
    "np_array1 = np.random.rand(1000000)\n",
    "np_array2 = np.random.rand(1000000)\n",
    "\n",
    "tic_list = time.time()\n",
    "result_py_list = [py_list1[i] + py_list2[i] for i in range(len(py_list1))]\n",
    "toc_list = time.time()\n",
    "print(\"Python list time: \", toc_list - tic_list)\n",
    "\n",
    "tic_array = time.time()\n",
    "result_np_array = np_array1 + np_array2\n",
    "toc_array = time.time()\n",
    "print(\"NumPy array time: \", toc_array - tic_array)\n",
    "\n",
    "print(f\"NumPy array is {int((toc_list - tic_list) / (toc_array - tic_array))} times faster\")"
   ]
  },
  {
   "cell_type": "markdown",
   "metadata": {},
   "source": [
    "**2. Element-wise Multiplication**"
   ]
  },
  {
   "cell_type": "code",
   "execution_count": 96,
   "metadata": {},
   "outputs": [
    {
     "name": "stdout",
     "output_type": "stream",
     "text": [
      "Python list time:  0.03865337371826172\n",
      "NumPy array time:  0.0008745193481445312\n",
      "NumPy array is 44 times faster\n"
     ]
    }
   ],
   "source": [
    "py_list1 = [random.random() for _ in range(1000000)]\n",
    "py_list2 = [random.random() for _ in range(1000000)]\n",
    "\n",
    "np_array1 = np.random.rand(1000000)\n",
    "np_array2 = np.random.rand(1000000)\n",
    "\n",
    "tic_list = time.time()\n",
    "result_py_list = [py_list1[i] * py_list2[i] for i in range(len(py_list1))]\n",
    "toc_list = time.time()\n",
    "print(\"Python list time: \", toc_list - tic_list)\n",
    "\n",
    "tic_array = time.time()\n",
    "result_np_array = np_array1 @ np_array2\n",
    "toc_array = time.time()\n",
    "print(\"NumPy array time: \", toc_array - tic_array)\n",
    "\n",
    "print(f\"NumPy array is {int((toc_list - tic_list) / (toc_array - tic_array))} times faster\")"
   ]
  },
  {
   "cell_type": "markdown",
   "metadata": {},
   "source": [
    "**3. Dot Product**"
   ]
  },
  {
   "cell_type": "code",
   "execution_count": 100,
   "metadata": {},
   "outputs": [
    {
     "name": "stdout",
     "output_type": "stream",
     "text": [
      "Python list time:  0.034938812255859375\n",
      "NumPy array time:  0.0006897449493408203\n",
      "NumPy array is 50 times faster.\n"
     ]
    }
   ],
   "source": [
    "py_list1 = [random.random() for _ in range(1000000)]\n",
    "py_list2 = [random.random() for _ in range(1000000)]\n",
    "np_array1 = np.random.rand(1000000)\n",
    "np_array2 = np.random.rand(1000000)\n",
    "\n",
    "tic_list = time.time()\n",
    "dot_product_py_list = sum(py_list1[i] * py_list2[i] for i in range(len(py_list1)))\n",
    "toc_list = time.time()\n",
    "print(\"Python list time: \", toc_list - tic_list)\n",
    "\n",
    "tic_array = time.time()\n",
    "dot_product_np_array = np.dot(np_array1, np_array2)\n",
    "toc_array = time.time()\n",
    "print(\"NumPy array time: \", toc_array - tic_array)\n",
    "\n",
    "print(f\"NumPy array is {int((toc_list - tic_list) / (toc_array - tic_array))} times faster.\")"
   ]
  },
  {
   "cell_type": "code",
   "execution_count": 101,
   "metadata": {},
   "outputs": [
    {
     "name": "stdout",
     "output_type": "stream",
     "text": [
      "Python list matrix multiplication time:  90.82327628135681\n",
      "NumPy array matrix multiplication time:  0.011690378189086914\n",
      "NumPy array is 7769 times faster for matrix multiplication\n"
     ]
    }
   ],
   "source": [
    "matrix1 = [[random.random() for _ in range(1000)] for _ in range(1000)]\n",
    "matrix2 = [[random.random() for _ in range(1000)] for _ in range(1000)]\n",
    "np_matrix1 = np.random.rand(1000, 1000)\n",
    "np_matrix2 = np.random.rand(1000, 1000)\n",
    "\n",
    "tic_list_matrix = time.time()\n",
    "result_py_matrix = []\n",
    "for i in range(1000):\n",
    "    row = []\n",
    "    for j in range(1000):\n",
    "        element = 0\n",
    "        for k in range(1000):\n",
    "            element += matrix1[i][k] * matrix2[k][j]\n",
    "        row.append(element)\n",
    "    result_py_matrix.append(row)\n",
    "toc_list_matrix = time.time()\n",
    "print(\"Python list matrix multiplication time: \", toc_list_matrix - tic_list_matrix)\n",
    "\n",
    "tic_array_matrix = time.time()\n",
    "result_np_matrix = np.dot(np_matrix1, np_matrix2)\n",
    "toc_array_matrix = time.time()\n",
    "print(\"NumPy array matrix multiplication time: \", toc_array_matrix - tic_array_matrix)\n",
    "\n",
    "print(f\"NumPy array is {int((toc_list_matrix - tic_list_matrix) / (toc_array_matrix - tic_array_matrix))} times faster for matrix multiplication\")"
   ]
  }
 ],
 "metadata": {
  "kernelspec": {
   "display_name": "Python 3 (ipykernel)",
   "language": "python",
   "name": "python3"
  },
  "language_info": {
   "codemirror_mode": {
    "name": "ipython",
    "version": 3
   },
   "file_extension": ".py",
   "mimetype": "text/x-python",
   "name": "python",
   "nbconvert_exporter": "python",
   "pygments_lexer": "ipython3",
   "version": "3.11.7"
  }
 },
 "nbformat": 4,
 "nbformat_minor": 4
}
