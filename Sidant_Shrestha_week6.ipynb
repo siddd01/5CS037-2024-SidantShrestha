{
  "cells": [
    {
      "cell_type": "markdown",
      "metadata": {
        "colab_type": "text",
        "id": "view-in-github"
      },
      "source": [
        "<a href=\"https://colab.research.google.com/github/Diwash17/5CS037_2407736_2024_Diwash_Adhikari/blob/main/Diwash_Adhikari_worksheet6.ipynb\" target=\"_parent\"><img src=\"https://colab.research.google.com/assets/colab-badge.svg\" alt=\"Open In Colab\"/></a>"
      ]
    },
    {
      "cell_type": "code",
      "execution_count": 453,
      "metadata": {
        "id": "oqekbF3ZVLN0"
      },
      "outputs": [],
      "source": [
        "import numpy as np\n",
        "import pandas as pd\n",
        "import matplotlib.pyplot as plt\n",
        "from sklearn.metrics import confusion_matrix, precision_score, recall_score, f1_score\n",
        "from sklearn.model_selection import train_test_split"
      ]
    },
    {
      "cell_type": "code",
      "execution_count": 454,
      "metadata": {
        "id": "vcfLH3cYVLN3"
      },
      "outputs": [],
      "source": [
        "def softmax(z):\n",
        "    \"\"\"\n",
        "    Compute the softmax of a 2D numpy array along the specified axis.\n",
        "    Parameters:\n",
        "    z (numpy.ndarray): Input array of shape (m, n) where m is the number of samples\n",
        "    and n is the number of classes.\n",
        "    Returns:\n",
        "    numpy.ndarray: Softmax probabilities of the same shape as input (m, n), where\n",
        "    each row sums to 1 and represents the probability distribution\n",
        "    over classes for a sample.\n",
        "    Notes:\n",
        "    - Applies a normalization trick to prevent numerical instability by subtracting\n",
        "    the max value in each row before exponentiation.\n",
        "    \"\"\"\n",
        "    # Normalize input to prevent numerical instability\n",
        "    exp_z = np.exp(z - np.max(z, axis=1, keepdims=True))\n",
        "    return exp_z / np.sum(exp_z, axis=1, keepdims=True)"
      ]
    },
    {
      "cell_type": "code",
      "execution_count": 455,
      "metadata": {
        "colab": {
          "base_uri": "https://localhost:8080/"
        },
        "id": "z6_zDpPpVLN3",
        "outputId": "a452b56f-e7d6-4c89-820a-bfad6a6c79c7"
      },
      "outputs": [
        {
          "name": "stdout",
          "output_type": "stream",
          "text": [
            "Test 1: All zeros\n",
            "Passed.\n",
            "Test 2: Simple case\n",
            "Passed.\n",
            "Test 3: Large identical values\n",
            "Passed.\n",
            "Test 4: Small identical values\n",
            "Passed.\n",
            "Test 5: Mixed positive and negative\n",
            "Passed.\n",
            "All tests passed for softmax function.\n"
          ]
        }
      ],
      "source": [
        "def test_softmax():\n",
        "    \"\"\"\n",
        "    Perform basic assertion tests on the softmax function to validate its correctness.\n",
        "    Tests:\n",
        "    - Ensure that the output probabilities sum to 1 for each row.\n",
        "    - Ensure non-negative values (all probabilities should be >= 0).\n",
        "    - Test on edge cases (e.g., all zeros, very large or small values).\n",
        "    \"\"\"\n",
        "    # Test input\n",
        "    test_cases = [(np.array([[0, 0, 0]]), \"All zeros\"),(np.array([[1, 2, 3]]), \"Simple case\"),(np.array([[1000, 1000, 1000]]), \"Large identical values\"),(np.array([[-1000, -1000, -1000]]), \"Small identical values\"),(np.array([[1, 0, -1]]), \"Mixed positive and negative\")]\n",
        "    for i, (z, description) in enumerate(test_cases):\n",
        "        print(f\"Test {i + 1}: {description}\")\n",
        "        result = softmax(z)\n",
        "        # Check that probabilities sum to 1\n",
        "        assert np.allclose(result.sum(axis=1), 1), f\"Failed: Probabilities do not sum to 1 in {description}\"\n",
        "        # Check non-negativity\n",
        "        assert np.all(result >= 0), f\"Failed: Negative probabilities in {description}\"\n",
        "        print(\"Passed.\")\n",
        "    print(\"All tests passed for softmax function.\")\n",
        "test_softmax()"
      ]
    },
    {
      "cell_type": "code",
      "execution_count": 456,
      "metadata": {
        "id": "t6Uh5aQJVLN4"
      },
      "outputs": [],
      "source": [
        "def loss_softmax(y_true, y_pred):\n",
        "    \"\"\"\n",
        "    Compute the cross-entropy loss for a single observation.\n",
        "    Parameters:\n",
        "    y_true (numpy.ndarray): True labels (one-hot encoded) of shape (c,).\n",
        "    y_pred (numpy.ndarray): Predicted probabilities of shape (c,).\n",
        "    Returns:\n",
        "    float: Cross-entropy loss for the observation.\n",
        "    \"\"\"\n",
        "    return -np.sum(y_true * np.log(y_pred + 1e-10)) # Add epsilon to prevent log(0)"
      ]
    },
    {
      "cell_type": "code",
      "execution_count": 457,
      "metadata": {
        "colab": {
          "base_uri": "https://localhost:8080/"
        },
        "id": "36TrCv3kVLN5",
        "outputId": "462e6f16-0a85-4c61-d70c-63643925ffc7"
      },
      "outputs": [
        {
          "name": "stdout",
          "output_type": "stream",
          "text": [
            "All test cases passed!\n"
          ]
        }
      ],
      "source": [
        "def test_loss_softmax():\n",
        "    \"\"\"\n",
        "    Test the loss_softmax function using a known input and output.\n",
        "    \"\"\"\n",
        "    # Test Case 1: Perfect prediction\n",
        "    y_true = np.array([0, 1, 0]) # True label (one-hot encoded)\n",
        "    y_pred = np.array([0.1, 0.8, 0.1]) # Predicted probabilities\n",
        "    expected_loss = -np.log(0.8) # Expected loss for perfect prediction\n",
        "    assert np.isclose(loss_softmax(y_true, y_pred), expected_loss), \"Test Case 1 Failed\"\n",
        "    # Test Case 2: Incorrect prediction\n",
        "    y_true = np.array([1, 0, 0]) # True label (one-hot encoded)\n",
        "    y_pred = np.array([0.3, 0.4, 0.3]) # Predicted probabilities\n",
        "    expected_loss = -np.log(0.3) # Expected loss for incorrect prediction\n",
        "    assert np.isclose(loss_softmax(y_true, y_pred), expected_loss), \"Test Case 2 Failed\"\n",
        "    # Test Case 3: Edge case with near-zero probability\n",
        "    y_true = np.array([0, 1, 0]) # True label (one-hot encoded)\n",
        "    y_pred = np.array([0.01, 0.98, 0.01]) # Predicted probabilities\n",
        "    expected_loss = -np.log(0.98) # Expected loss for edge case\n",
        "    assert np.isclose(loss_softmax(y_true, y_pred), expected_loss), \"Test Case 3 Failed\"\n",
        "    print(\"All test cases passed!\")\n",
        "# Run the test\n",
        "test_loss_softmax()"
      ]
    },
    {
      "cell_type": "code",
      "execution_count": 458,
      "metadata": {
        "id": "gBSdH9ekVLN5"
      },
      "outputs": [],
      "source": [
        "def cost_softmax(X, y, W, b):\n",
        "    \"\"\"\n",
        "    Compute the average cross-entropy cost over all samples.\n",
        "    Parameters:\n",
        "    X (numpy.ndarray): Feature matrix of shape (n, d).\n",
        "    y (numpy.ndarray): True labels (one-hot encoded) of shape (n, c).\n",
        "    W (numpy.ndarray): Weight matrix of shape (d, c).\n",
        "    b (numpy.ndarray): Bias vector of shape (c,).\n",
        "    Returns:\n",
        "    float: Average cross-entropy cost over all samples.\n",
        "    \"\"\"\n",
        "    n, d = X.shape\n",
        "    z = np.dot(X, W) + b\n",
        "    y_pred = softmax(z)\n",
        "    return -np.sum(y * np.log(y_pred + 1e-10)) / n"
      ]
    },
    {
      "cell_type": "code",
      "execution_count": 459,
      "metadata": {
        "colab": {
          "base_uri": "https://localhost:8080/"
        },
        "id": "mgAT8XY_VLN6",
        "outputId": "fa4ab54c-0c7b-4896-9e87-92165cdc73cb"
      },
      "outputs": [
        {
          "name": "stdout",
          "output_type": "stream",
          "text": [
            "All test cases passed!\n"
          ]
        }
      ],
      "source": [
        "def test_cost_softmax():\n",
        "    \"\"\"\n",
        "    Test the cost_softmax function using a known input and output.\n",
        "    \"\"\"\n",
        "    # Test Case 1: Small dataset with perfect predictions\n",
        "    X = np.array([[1, 2], [2, 3], [3, 4]]) # Feature matrix (n=3, d=2)\n",
        "    y = np.array([[1, 0], [0, 1], [1, 0]]) # True labels (n=3, c=2, one-hot encoded)\n",
        "    W = np.array([[1, -1], [-1, 1]]) # Weight matrix (d=2, c=2)\n",
        "    b = np.array([0, 0]) # Bias vector (c=2)\n",
        "    z = np.dot(X, W) + b\n",
        "    y_pred = softmax(z) # Predicted probabilities\n",
        "    expected_cost = -np.sum(y * np.log(y_pred + 1e-10)) / X.shape[0] # Compute expected cost\n",
        "    assert np.isclose(cost_softmax(X, y, W, b), expected_cost), \"Test Case 1 Failed\"\n",
        "    # Test Case 2: All-zero weights and bias\n",
        "    X = np.array([[1, 0], [0, 1], [1, 1]]) # Feature matrix (n=3, d=2)\n",
        "    y = np.array([[1, 0], [0, 1], [1, 0]]) # True labels (n=3, c=2, one-hot encoded)\n",
        "    W = np.zeros((2, 2)) # Zero weight matrix\n",
        "    b = np.zeros(2) # Zero bias vector\n",
        "    z = np.dot(X, W) + b\n",
        "    y_pred = softmax(z) # Predicted probabilities (uniform distribution)\n",
        "    expected_cost = -np.sum(y * np.log(y_pred + 1e-10)) / X.shape[0] # Compute expected cost\n",
        "    assert np.isclose(cost_softmax(X, y, W, b), expected_cost), \"Test Case 2 Failed\"\n",
        "    print(\"All test cases passed!\")\n",
        "# Run the test\n",
        "test_cost_softmax()"
      ]
    },
    {
      "cell_type": "code",
      "execution_count": 460,
      "metadata": {
        "id": "5-SCSsWzVLN6"
      },
      "outputs": [],
      "source": [
        "def compute_gradient_softmax(X, y, W, b):\n",
        "    \"\"\"\n",
        "    Compute the gradients of the cost function with respect to weights and biases.\n",
        "    Parameters:\n",
        "    X (numpy.ndarray): Feature matrix of shape (n, d).\n",
        "    y (numpy.ndarray): True labels (one-hot encoded) of shape (n, c).\n",
        "    W (numpy.ndarray): Weight matrix of shape (d, c).\n",
        "    b (numpy.ndarray): Bias vector of shape (c,).\n",
        "    Returns:\n",
        "    tuple: Gradients with respect to weights (d, c) and biases (c,).\n",
        "    \"\"\"\n",
        "    n, d = X.shape\n",
        "    z = np.dot(X, W) + b\n",
        "    y_pred = softmax(z)\n",
        "    grad_W = np.dot(X.T, (y_pred - y)) / n\n",
        "    grad_b = np.sum(y_pred - y, axis=0) / n\n",
        "    return grad_W, grad_b"
      ]
    },
    {
      "cell_type": "code",
      "execution_count": 461,
      "metadata": {
        "colab": {
          "base_uri": "https://localhost:8080/"
        },
        "id": "Fn-bSV0UVLN7",
        "outputId": "94271cbf-97f4-4517-eac3-c66a7516a72f"
      },
      "outputs": [
        {
          "name": "stdout",
          "output_type": "stream",
          "text": [
            "All tests passed for compute_gradient_softmax!\n"
          ]
        }
      ],
      "source": [
        "def test_compute_gradient_softmax():\n",
        "    # Define simple inputs\n",
        "    X = np.array([[1, 2], [3, 4]]) # Shape (2, 2)\n",
        "    y = np.array([[1, 0], [0, 1]]) # Shape (2, 2), one-hot encoded\n",
        "    W = np.array([[0.1, 0.2], [0.3, 0.4]]) # Shape (2, 2)\n",
        "    b = np.array([0.01, 0.02]) # Shape (2,)\n",
        "    # Expected gradients (calculated manually or using a reference implementation)\n",
        "    z = np.dot(X, W) + b\n",
        "    y_pred = softmax(z)\n",
        "    grad_W_expected = np.dot(X.T, (y_pred - y)) / X.shape[0]\n",
        "    grad_b_expected = np.sum(y_pred - y, axis=0) / X.shape[0]\n",
        "    # Compute gradients using the function\n",
        "    grad_W, grad_b = compute_gradient_softmax(X, y, W, b)\n",
        "    # Assertions\n",
        "    assert np.allclose(grad_W, grad_W_expected, atol=1e-6), \"Gradient W does not match expected values\"\n",
        "    assert np.allclose(grad_b, grad_b_expected, atol=1e-6), \"Gradient b does not match expected values\"\n",
        "    print(\"All tests passed for compute_gradient_softmax!\")\n",
        "# Run the test\n",
        "test_compute_gradient_softmax()"
      ]
    },
    {
      "cell_type": "code",
      "execution_count": 462,
      "metadata": {
        "id": "nlHVByYxVLN7"
      },
      "outputs": [],
      "source": [
        "def gradient_descent_softmax(X, y, W, b, alpha, n_iter, show_cost=False):\n",
        "    \"\"\"\n",
        "    Perform gradient descent to optimize the weights and biases.\n",
        "    Parameters:\n",
        "    X (numpy.ndarray): Feature matrix of shape (n, d).\n",
        "    y (numpy.ndarray): True labels (one-hot encoded) of shape (n, c).\n",
        "    W (numpy.ndarray): Weight matrix of shape (d, c).\n",
        "    b (numpy.ndarray): Bias vector of shape (c,).\n",
        "    alpha (float): Learning rate.\n",
        "    n_iter (int): Number of iterations.\n",
        "    show_cost (bool): Whether to display the cost at intervals.\n",
        "    Returns:\n",
        "    tuple: Optimized weights, biases, and cost history.\n",
        "    \"\"\"\n",
        "    cost_history = []\n",
        "    for i in range(n_iter):\n",
        "        grad_W, grad_b = compute_gradient_softmax(X, y, W, b)\n",
        "        W -= alpha * grad_W\n",
        "        b -= alpha * grad_b\n",
        "        cost = cost_softmax(X, y, W, b)\n",
        "        cost_history.append(cost)\n",
        "        if show_cost and (i % 100 == 0 or i == n_iter - 1):\n",
        "            print(f\"Iteration {i}: Cost = {cost:.6f}\")\n",
        "    return W, b, cost_history"
      ]
    },
    {
      "cell_type": "code",
      "execution_count": 463,
      "metadata": {
        "colab": {
          "base_uri": "https://localhost:8080/",
          "height": 600
        },
        "id": "5A-4akvNVLN7",
        "outputId": "4ab7d4a0-386a-4a95-cb83-375af39af2ad"
      },
      "outputs": [
        {
          "data": {
            "image/png": "[encoded data removed]",
            "text/plain": [
              "<Figure size 800x600 with 1 Axes>"
            ]
          },
          "metadata": {},
          "output_type": "display_data"
        },
        {
          "name": "stdout",
          "output_type": "stream",
          "text": [
            "Initial Cost: 1.1158608479596404\n",
            "Final Cost: 1.0892233754862581\n"
          ]
        }
      ],
      "source": [
        "def test_gradient_descent_softmax_with_plot():\n",
        "# Generate synthetic data for testing\n",
        "    np.random.seed(0)\n",
        "    n, d, c = 100, 5, 3 # 100 samples, 5 features, 3 classes\n",
        "    X = np.random.rand(n, d)\n",
        "    y_indices = np.random.randint(0, c, size=n)\n",
        "    y = np.zeros((n, c))\n",
        "    y[np.arange(n), y_indices] = 1\n",
        "    W = np.random.rand(d, c)\n",
        "    b = np.random.rand(c)\n",
        "    # Parameters for gradient descent\n",
        "    alpha = 0.01 # Learning rate\n",
        "    n_iter = 500 # Number of iterations\n",
        "    # Run gradient descent\n",
        "    W_opt, b_opt, cost_history = gradient_descent_softmax(X, y, W, b, alpha, n_iter, show_cost=False)\n",
        "    # Plot the cost history\n",
        "    plt.figure(figsize=(8, 6))\n",
        "    plt.plot(range(n_iter), cost_history, label=\"Cost\")\n",
        "    plt.xlabel(\"Iteration\")\n",
        "    plt.ylabel(\"Cost\")\n",
        "    plt.title(\"Cost Reduction Over Iterations (Learning Rate: {alpha})\")\n",
        "    plt.legend()\n",
        "    plt.grid()\n",
        "    plt.show()\n",
        "    # Final cost should ideally be less than initial cost\n",
        "    print(f\"Initial Cost: {cost_history[0]}\")\n",
        "    print(f\"Final Cost: {cost_history[-1]}\")\n",
        "test_gradient_descent_softmax_with_plot()"
      ]
    },
    {
      "cell_type": "code",
      "execution_count": 464,
      "metadata": {
        "id": "BKHS6mpAVLN8"
      },
      "outputs": [],
      "source": [
        "def predict_softmax(X, W, b):\n",
        "    \"\"\"\n",
        "    Predict the class labels for input data.\n",
        "    Parameters:\n",
        "    X (numpy.ndarray): Feature matrix of shape (n, d).\n",
        "    W (numpy.ndarray): Weight matrix of shape (d, c).\n",
        "    b (numpy.ndarray): Bias vector of shape (c,).\n",
        "    Returns:\n",
        "    numpy.ndarray: Predicted class labels of shape (n,).\n",
        "    \"\"\"\n",
        "    z = np.dot(X, W) + b\n",
        "    y_pred = softmax(z)\n",
        "    return np.argmax(y_pred, axis=1)"
      ]
    },
    {
      "cell_type": "code",
      "execution_count": 465,
      "metadata": {
        "colab": {
          "base_uri": "https://localhost:8080/"
        },
        "id": "_qkvWgnTVLN8",
        "outputId": "51d840af-5526-4c8a-8621-7deff8c3f63d"
      },
      "outputs": [
        {
          "name": "stdout",
          "output_type": "stream",
          "text": [
            "All tests passed for predict_softmax!\n"
          ]
        }
      ],
      "source": [
        "def test_predict_softmax():\n",
        "    # Generate synthetic data for testing\n",
        "    np.random.seed(0)\n",
        "    n, d, c = 10, 5, 3 # 10 samples, 5 features, 3 classes\n",
        "    X = np.random.rand(n, d)\n",
        "    W = np.random.rand(d, c)\n",
        "    b = np.random.rand(c)\n",
        "    # Compute the predictions using the function\n",
        "    predictions = predict_softmax(X, W, b)\n",
        "    # Check the shape of the output\n",
        "    assert predictions.shape == (n,), f\"Shape mismatch: expected {(n,)}, got {predictions.shape}\"\n",
        "    # Verify that all predicted labels are within the range of class indices\n",
        "    assert np.all(predictions >= 0) and np.all(predictions < c), (f\"Predictions out of range: expected 0 to {c-1}, got {predictions}\")\n",
        "    #Check that the predicted labels are integers\n",
        "    assert np.issubdtype(predictions.dtype, np.integer), f\"Predictions are not integers: {predictions.dtype}\"\n",
        "    print(\"All tests passed for predict_softmax!\")\n",
        "# Run the test\n",
        "test_predict_softmax()"
      ]
    },
    {
      "cell_type": "code",
      "execution_count": 466,
      "metadata": {
        "id": "Npb3-puPVLN8"
      },
      "outputs": [],
      "source": [
        "def evaluate_classification(y_true, y_pred):\n",
        "  \"\"\"\n",
        "  Evaluate the classification performance using confusion matrix, precision, recall, and F1-score.\n",
        "  Parameters:\n",
        "  y_true (numpy.ndarray): True class labels of shape (n,).\n",
        "  y_pred (numpy.ndarray): Predicted class labels of shape (n,).\n",
        "  Returns:\n",
        "  tuple: Confusion matrix, precision, recall, and F1-score.\n",
        "  \"\"\"\n",
        "  cm = confusion_matrix(y_true, y_pred)\n",
        "  precision = precision_score(y_true, y_pred, average=\"weighted\", zero_division=0)\n",
        "  recall = recall_score(y_true, y_pred, average=\"weighted\", zero_division=0)\n",
        "  f1 = f1_score(y_true, y_pred, average=\"weighted\", zero_division=0)\n",
        "  return cm, precision, recall, f1"
      ]
    },
    {
      "cell_type": "markdown",
      "metadata": {
        "id": "sFbYOs1iVLN8"
      },
      "source": [
        "## Putting Helper Function to Action"
      ]
    },
    {
      "cell_type": "code",
      "execution_count": 467,
      "metadata": {
        "id": "N6w0oDSGVLN9"
      },
      "outputs": [],
      "source": [
        "def preprocess_titanic_data(file_path):\n",
        "    # Load dataset\n",
        "    df = pd.read_csv(file_path)\n",
        "\n",
        "    # Drop unnecessary columns\n",
        "    df = df.drop([\"PassengerId\", \"Name\", \"Ticket\", \"Cabin\"], axis=1)\n",
        "\n",
        "    # Fill missing values\n",
        "    df[\"Age\"] = df[\"Age\"].fillna(df[\"Age\"].median())\n",
        "    df[\"Embarked\"] = df[\"Embarked\"].fillna(df[\"Embarked\"].mode()[0])\n",
        "\n",
        "    # Map categorical values to numeric\n",
        "    df[\"Sex\"] = df[\"Sex\"].map({\"male\": 0, \"female\": 1})\n",
        "    df[\"Embarked\"] = df[\"Embarked\"].map({\"C\": 0, \"Q\": 1, \"S\": 2})\n",
        "\n",
        "    # Normalize numerical columns\n",
        "    #Standarization using z-score formula = xi - mean/std\n",
        "    numerical_cols = ['Age', 'Fare', 'SibSp', 'Parch']\n",
        "    for col in numerical_cols:\n",
        "        df[col] = (df[col] - df[col].mean()) / df[col].std()\n",
        "\n",
        "    return df"
      ]
    },
    {
      "cell_type": "code",
      "execution_count": 468,
      "metadata": {
        "colab": {
          "base_uri": "https://localhost:8080/",
          "height": 1000
        },
        "id": "vcV2rSegVLN9",
        "outputId": "1800f901-7902-4e3e-95ba-0612624708e1"
      },
      "outputs": [
        {
          "name": "stdout",
          "output_type": "stream",
          "text": [
            "Iteration 0: Cost = 1.046983\n",
            "Iteration 100: Cost = 0.676327\n",
            "Iteration 200: Cost = 0.619114\n",
            "Iteration 300: Cost = 0.590633\n",
            "Iteration 400: Cost = 0.573539\n",
            "Iteration 500: Cost = 0.562122\n",
            "Iteration 600: Cost = 0.553913\n",
            "Iteration 700: Cost = 0.547677\n",
            "Iteration 800: Cost = 0.542741\n",
            "Iteration 900: Cost = 0.538708\n",
            "Iteration 1000: Cost = 0.535331\n",
            "Iteration 1100: Cost = 0.532448\n",
            "Iteration 1200: Cost = 0.529949\n",
            "Iteration 1300: Cost = 0.527757\n",
            "Iteration 1400: Cost = 0.525815\n",
            "Iteration 1500: Cost = 0.524080\n",
            "Iteration 1600: Cost = 0.522521\n",
            "Iteration 1700: Cost = 0.521110\n",
            "Iteration 1800: Cost = 0.519828\n",
            "Iteration 1900: Cost = 0.518658\n",
            "Iteration 2000: Cost = 0.517587\n",
            "Iteration 2100: Cost = 0.516603\n",
            "Iteration 2200: Cost = 0.515696\n",
            "Iteration 2300: Cost = 0.514859\n",
            "Iteration 2400: Cost = 0.514083\n",
            "Iteration 2500: Cost = 0.513364\n",
            "Iteration 2600: Cost = 0.512696\n",
            "Iteration 2700: Cost = 0.512074\n",
            "Iteration 2800: Cost = 0.511493\n",
            "Iteration 2900: Cost = 0.510952\n",
            "Iteration 3000: Cost = 0.510445\n",
            "Iteration 3100: Cost = 0.509971\n",
            "Iteration 3200: Cost = 0.509527\n",
            "Iteration 3300: Cost = 0.509110\n",
            "Iteration 3400: Cost = 0.508719\n",
            "Iteration 3500: Cost = 0.508351\n",
            "Iteration 3600: Cost = 0.508005\n",
            "Iteration 3700: Cost = 0.507679\n",
            "Iteration 3800: Cost = 0.507372\n",
            "Iteration 3900: Cost = 0.507082\n",
            "Iteration 3999: Cost = 0.506812\n"
          ]
        },
        {
          "data": {
            "image/png": "[encoded data removed]",
            "text/plain": [
              "<Figure size 800x600 with 1 Axes>"
            ]
          },
          "metadata": {},
          "output_type": "display_data"
        },
        {
          "name": "stdout",
          "output_type": "stream",
          "text": [
            "Confusion Matrix:\n",
            "[[198.  12.   6.]\n",
            " [  9.  67. 108.]\n",
            " [  8.   6. 477.]]\n",
            "Accuracy: 83.28%\n",
            "Test Set Accuracy: 83.28%\n"
          ]
        }
      ],
      "source": [
        "def softmax_regression_titanic():\n",
        "    # Load and preprocess data\n",
        "    file_path = \"https://raw.githubusercontent.com/Diwash17/Titanic-Survival-Prediction/main/Titanic-Dataset.csv\"\n",
        "    df = preprocess_titanic_data(file_path)\n",
        "\n",
        "    X = df.drop(\"Pclass\", axis=1).values\n",
        "    y = df[\"Pclass\"].values\n",
        "\n",
        "\n",
        "    y_one_hot = np.zeros((y.size, y.max()))\n",
        "    y_one_hot[np.arange(y.size), y - 1] = 1\n",
        "\n",
        "    n_samples, n_features = X.shape\n",
        "    n_classes = y_one_hot.shape[1]\n",
        "    W = np.random.rand(n_features, n_classes)\n",
        "    b = np.random.rand(n_classes)\n",
        "\n",
        "    X_train, X_test, y_train, y_test = train_test_split(X, y_one_hot, test_size=0.3, random_state=42, stratify=y)\n",
        "\n",
        "    alpha = 0.1\n",
        "    n_iter = 4000\n",
        "\n",
        "    W_opt, b_opt, cost_history = gradient_descent_softmax(X, y_one_hot, W, b, alpha, n_iter, show_cost=True)\n",
        "\n",
        "\n",
        "    plt.figure(figsize=(8, 6))\n",
        "    plt.plot(range(n_iter), cost_history, label=\"Cost\")\n",
        "    plt.xlabel(\"Iteration\")\n",
        "    plt.ylabel(\"Cost\")\n",
        "    plt.title(\"Cost Reduction Over Iterations\")\n",
        "    plt.legend()\n",
        "    plt.grid()\n",
        "    plt.show()\n",
        "\n",
        "    y_pred = predict_softmax(X, W_opt, b_opt)\n",
        "\n",
        "    cm = np.zeros((n_classes, n_classes))\n",
        "    for true_label, pred_label in zip(y - 1, y_pred):\n",
        "        cm[true_label, pred_label] += 1\n",
        "\n",
        "    print(\"Confusion Matrix:\")\n",
        "    print(cm)\n",
        "\n",
        "    accuracy = np.trace(cm) / np.sum(cm)\n",
        "    print(f\"Accuracy: {accuracy * 100:.2f}%\")\n",
        "\n",
        "    accuracy = np.trace(cm) / np.sum(cm)\n",
        "    print(f\"Test Set Accuracy: {accuracy * 100:.2f}%\")\n",
        "\n",
        "\n",
        "softmax_regression_titanic()"
      ]
    }
  ],
  "metadata": {
    "colab": {
      "include_colab_link": true,
      "provenance": []
    },
    "kernelspec": {
      "display_name": "basic",
      "language": "python",
      "name": "python3"
    },
    "language_info": {
      "codemirror_mode": {
        "name": "ipython",
        "version": 3
      },
      "file_extension": ".py",
      "mimetype": "text/x-python",
      "name": "python",
      "nbconvert_exporter": "python",
      "pygments_lexer": "ipython3",
      "version": "3.10.16"
    }
  },
  "nbformat": 4,
  "nbformat_minor": 0
}
