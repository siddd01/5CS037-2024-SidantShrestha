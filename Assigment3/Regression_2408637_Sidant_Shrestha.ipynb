{
 "cells": [
  {
   "cell_type": "markdown",
   "id": "f2c142c3",
   "metadata": {
    "id": "f2c142c3"
   },
   "source": [
    "# Data understanding and EDA"
   ]
  },
  {
   "cell_type": "code",
   "execution_count": 3,
   "id": "9bd7ab8b",
   "metadata": {
    "executionInfo": {
     "elapsed": 3511,
     "status": "ok",
     "timestamp": 1739126070652,
     "user": {
      "displayName": "Aayushma Mahar",
      "userId": "04510113300812976654"
     },
     "user_tz": -345
    },
    "id": "9bd7ab8b"
   },
   "outputs": [],
   "source": [
    "# Importing required libraries\n",
    "import pandas as pd\n",
    "import numpy as np\n",
    "import os\n",
    "import seaborn as sns\n",
    "import matplotlib.pyplot as plt"
   ]
  },
  {
   "cell_type": "code",
   "execution_count": 2,
   "id": "8iNVkytbEcIs",
   "metadata": {
    "colab": {
     "base_uri": "https://localhost:8080/"
    },
    "executionInfo": {
     "elapsed": 16199,
     "status": "ok",
     "timestamp": 1739125970227,
     "user": {
      "displayName": "Aayushma Mahar",
      "userId": "04510113300812976654"
     },
     "user_tz": -345
    },
    "id": "8iNVkytbEcIs",
    "outputId": "caa73c4d-dc70-4af0-c184-594a97e2a905"
   },
   "outputs": [
    {
     "name": "stdout",
     "output_type": "stream",
     "text": [
      "Mounted at /content/drive\n"
     ]
    }
   ],
   "source": [
    "#from google.colab import drive\n",
    "#drive.mount('/content/drive')"
   ]
  },
  {
   "cell_type": "code",
   "execution_count": 4,
   "id": "396372af",
   "metadata": {
    "colab": {
     "base_uri": "https://localhost:8080/"
    },
    "executionInfo": {
     "elapsed": 18,
     "status": "ok",
     "timestamp": 1739126070675,
     "user": {
      "displayName": "Aayushma Mahar",
      "userId": "04510113300812976654"
     },
     "user_tz": -345
    },
    "id": "396372af",
    "outputId": "357830e3-83f7-4f10-a37d-5cfa3c9c93fd"
   },
   "outputs": [
    {
     "data": {
      "text/plain": [
       "['.config', 'drive', 'sample_data']"
      ]
     },
     "execution_count": 4,
     "metadata": {},
     "output_type": "execute_result"
    }
   ],
   "source": [
    "os.listdir()"
   ]
  },
  {
   "cell_type": "code",
   "execution_count": 5,
   "id": "f5f2227a",
   "metadata": {
    "colab": {
     "base_uri": "https://localhost:8080/",
     "height": 223
    },
    "executionInfo": {
     "elapsed": 813,
     "status": "ok",
     "timestamp": 1739126073385,
     "user": {
      "displayName": "Aayushma Mahar",
      "userId": "04510113300812976654"
     },
     "user_tz": -345
    },
    "id": "f5f2227a",
    "outputId": "6c95d502-b28c-41a2-91a0-3752b1a8ccb9",
    "scrolled": true
   },
   "outputs": [
    {
     "data": {
      "application/vnd.google.colaboratory.intrinsic+json": {
       "summary": "{\n  \"name\": \"df\",\n  \"rows\": 414,\n  \"fields\": [\n    {\n      \"column\": \"No\",\n      \"properties\": {\n        \"dtype\": \"number\",\n        \"std\": 119,\n        \"min\": 1,\n        \"max\": 414,\n        \"num_unique_values\": 414,\n        \"samples\": [\n          359,\n          351,\n          374\n        ],\n        \"semantic_type\": \"\",\n        \"description\": \"\"\n      }\n    },\n    {\n      \"column\": \"X1 transaction date\",\n      \"properties\": {\n        \"dtype\": \"number\",\n        \"std\": 0.2819672402630118,\n        \"min\": 2012.667,\n        \"max\": 2013.583,\n        \"num_unique_values\": 12,\n        \"samples\": [\n          2013.0,\n          2012.75,\n          2012.917\n        ],\n        \"semantic_type\": \"\",\n        \"description\": \"\"\n      }\n    },\n    {\n      \"column\": \"X2 house age\",\n      \"properties\": {\n        \"dtype\": \"number\",\n        \"std\": 11.392484533242536,\n        \"min\": 0.0,\n        \"max\": 43.8,\n        \"num_unique_values\": 236,\n        \"samples\": [\n          38.2,\n          3.4,\n          27.5\n        ],\n        \"semantic_type\": \"\",\n        \"description\": \"\"\n      }\n    },\n    {\n      \"column\": \"X3 distance to the nearest MRT station\",\n      \"properties\": {\n        \"dtype\": \"number\",\n        \"std\": 1262.1095954078514,\n        \"min\": 23.38284,\n        \"max\": 6488.021,\n        \"num_unique_values\": 259,\n        \"samples\": [\n          552.4371,\n          4605.749,\n          405.2134\n        ],\n        \"semantic_type\": \"\",\n        \"description\": \"\"\n      }\n    },\n    {\n      \"column\": \"X4 number of convenience stores\",\n      \"properties\": {\n        \"dtype\": \"number\",\n        \"std\": 2,\n        \"min\": 0,\n        \"max\": 10,\n        \"num_unique_values\": 11,\n        \"samples\": [\n          6,\n          10,\n          8\n        ],\n        \"semantic_type\": \"\",\n        \"description\": \"\"\n      }\n    },\n    {\n      \"column\": \"X5 latitude\",\n      \"properties\": {\n        \"dtype\": \"number\",\n        \"std\": 0.012410196590450335,\n        \"min\": 24.93207,\n        \"max\": 25.01459,\n        \"num_unique_values\": 234,\n        \"samples\": [\n          24.98573,\n          24.96143,\n          24.96696\n        ],\n        \"semantic_type\": \"\",\n        \"description\": \"\"\n      }\n    },\n    {\n      \"column\": \"X6 longitude\",\n      \"properties\": {\n        \"dtype\": \"number\",\n        \"std\": 0.015347183004592205,\n        \"min\": 121.47353,\n        \"max\": 121.56627,\n        \"num_unique_values\": 232,\n        \"samples\": [\n          121.54634,\n          121.50831,\n          121.53372\n        ],\n        \"semantic_type\": \"\",\n        \"description\": \"\"\n      }\n    },\n    {\n      \"column\": \"Y house price of unit area\",\n      \"properties\": {\n        \"dtype\": \"number\",\n        \"std\": 13.606487697735314,\n        \"min\": 7.6,\n        \"max\": 117.5,\n        \"num_unique_values\": 270,\n        \"samples\": [\n          25.0,\n          30.7,\n          18.3\n        ],\n        \"semantic_type\": \"\",\n        \"description\": \"\"\n      }\n    }\n  ]\n}",
       "type": "dataframe",
       "variable_name": "df"
      },
      "text/html": [
       "\n",
       "  <div id=\"df-a9bd118f-30c7-4c0c-9089-9623d0c0c7cf\" class=\"colab-df-container\">\n",
       "    <div>\n",
       "<style scoped>\n",
       "    .dataframe tbody tr th:only-of-type {\n",
       "        vertical-align: middle;\n",
       "    }\n",
       "\n",
       "    .dataframe tbody tr th {\n",
       "        vertical-align: top;\n",
       "    }\n",
       "\n",
       "    .dataframe thead th {\n",
       "        text-align: right;\n",
       "    }\n",
       "</style>\n",
       "<table border=\"1\" class=\"dataframe\">\n",
       "  <thead>\n",
       "    <tr style=\"text-align: right;\">\n",
       "      <th></th>\n",
       "      <th>No</th>\n",
       "      <th>X1 transaction date</th>\n",
       "      <th>X2 house age</th>\n",
       "      <th>X3 distance to the nearest MRT station</th>\n",
       "      <th>X4 number of convenience stores</th>\n",
       "      <th>X5 latitude</th>\n",
       "      <th>X6 longitude</th>\n",
       "      <th>Y house price of unit area</th>\n",
       "    </tr>\n",
       "  </thead>\n",
       "  <tbody>\n",
       "    <tr>\n",
       "      <th>0</th>\n",
       "      <td>1</td>\n",
       "      <td>2012.917</td>\n",
       "      <td>32.0</td>\n",
       "      <td>84.87882</td>\n",
       "      <td>10</td>\n",
       "      <td>24.98298</td>\n",
       "      <td>121.54024</td>\n",
       "      <td>37.9</td>\n",
       "    </tr>\n",
       "    <tr>\n",
       "      <th>1</th>\n",
       "      <td>2</td>\n",
       "      <td>2012.917</td>\n",
       "      <td>19.5</td>\n",
       "      <td>306.59470</td>\n",
       "      <td>9</td>\n",
       "      <td>24.98034</td>\n",
       "      <td>121.53951</td>\n",
       "      <td>42.2</td>\n",
       "    </tr>\n",
       "    <tr>\n",
       "      <th>2</th>\n",
       "      <td>3</td>\n",
       "      <td>2013.583</td>\n",
       "      <td>13.3</td>\n",
       "      <td>561.98450</td>\n",
       "      <td>5</td>\n",
       "      <td>24.98746</td>\n",
       "      <td>121.54391</td>\n",
       "      <td>47.3</td>\n",
       "    </tr>\n",
       "    <tr>\n",
       "      <th>3</th>\n",
       "      <td>4</td>\n",
       "      <td>2013.500</td>\n",
       "      <td>13.3</td>\n",
       "      <td>561.98450</td>\n",
       "      <td>5</td>\n",
       "      <td>24.98746</td>\n",
       "      <td>121.54391</td>\n",
       "      <td>54.8</td>\n",
       "    </tr>\n",
       "    <tr>\n",
       "      <th>4</th>\n",
       "      <td>5</td>\n",
       "      <td>2012.833</td>\n",
       "      <td>5.0</td>\n",
       "      <td>390.56840</td>\n",
       "      <td>5</td>\n",
       "      <td>24.97937</td>\n",
       "      <td>121.54245</td>\n",
       "      <td>43.1</td>\n",
       "    </tr>\n",
       "  </tbody>\n",
       "</table>\n",
       "</div>\n",
       "    <div class=\"colab-df-buttons\">\n",
       "\n",
       "  <div class=\"colab-df-container\">\n",
       "    <button class=\"colab-df-convert\" onclick=\"convertToInteractive('df-a9bd118f-30c7-4c0c-9089-9623d0c0c7cf')\"\n",
       "            title=\"Convert this dataframe to an interactive table.\"\n",
       "            style=\"display:none;\">\n",
       "\n",
       "  <svg xmlns=\"http://www.w3.org/2000/svg\" height=\"24px\" viewBox=\"0 -960 960 960\">\n",
       "    <path d=\"M120-120v-720h720v720H120Zm60-500h600v-160H180v160Zm220 220h160v-160H400v160Zm0 220h160v-160H400v160ZM180-400h160v-160H180v160Zm440 0h160v-160H620v160ZM180-180h160v-160H180v160Zm440 0h160v-160H620v160Z\"/>\n",
       "  </svg>\n",
       "    </button>\n",
       "\n",
       "  <style>\n",
       "    .colab-df-container {\n",
       "      display:flex;\n",
       "      gap: 12px;\n",
       "    }\n",
       "\n",
       "    .colab-df-convert {\n",
       "      background-color: #E8F0FE;\n",
       "      border: none;\n",
       "      border-radius: 50%;\n",
       "      cursor: pointer;\n",
       "      display: none;\n",
       "      fill: #1967D2;\n",
       "      height: 32px;\n",
       "      padding: 0 0 0 0;\n",
       "      width: 32px;\n",
       "    }\n",
       "\n",
       "    .colab-df-convert:hover {\n",
       "      background-color: #E2EBFA;\n",
       "      box-shadow: 0px 1px 2px rgba(60, 64, 67, 0.3), 0px 1px 3px 1px rgba(60, 64, 67, 0.15);\n",
       "      fill: #174EA6;\n",
       "    }\n",
       "\n",
       "    .colab-df-buttons div {\n",
       "      margin-bottom: 4px;\n",
       "    }\n",
       "\n",
       "    [theme=dark] .colab-df-convert {\n",
       "      background-color: #3B4455;\n",
       "      fill: #D2E3FC;\n",
       "    }\n",
       "\n",
       "    [theme=dark] .colab-df-convert:hover {\n",
       "      background-color: #434B5C;\n",
       "      box-shadow: 0px 1px 3px 1px rgba(0, 0, 0, 0.15);\n",
       "      filter: drop-shadow(0px 1px 2px rgba(0, 0, 0, 0.3));\n",
       "      fill: #FFFFFF;\n",
       "    }\n",
       "  </style>\n",
       "\n",
       "    <script>\n",
       "      const buttonEl =\n",
       "        document.querySelector('#df-a9bd118f-30c7-4c0c-9089-9623d0c0c7cf button.colab-df-convert');\n",
       "      buttonEl.style.display =\n",
       "        google.colab.kernel.accessAllowed ? 'block' : 'none';\n",
       "\n",
       "      async function convertToInteractive(key) {\n",
       "        const element = document.querySelector('#df-a9bd118f-30c7-4c0c-9089-9623d0c0c7cf');\n",
       "        const dataTable =\n",
       "          await google.colab.kernel.invokeFunction('convertToInteractive',\n",
       "                                                    [key], {});\n",
       "        if (!dataTable) return;\n",
       "\n",
       "        const docLinkHtml = 'Like what you see? Visit the ' +\n",
       "          '<a target=\"_blank\" href=https://colab.research.google.com/notebooks/data_table.ipynb>data table notebook</a>'\n",
       "          + ' to learn more about interactive tables.';\n",
       "        element.innerHTML = '';\n",
       "        dataTable['output_type'] = 'display_data';\n",
       "        await google.colab.output.renderOutput(dataTable, element);\n",
       "        const docLink = document.createElement('div');\n",
       "        docLink.innerHTML = docLinkHtml;\n",
       "        element.appendChild(docLink);\n",
       "      }\n",
       "    </script>\n",
       "  </div>\n",
       "\n",
       "\n",
       "<div id=\"df-8bb75b59-232d-4cfb-b147-a8e5d9b6bb52\">\n",
       "  <button class=\"colab-df-quickchart\" onclick=\"quickchart('df-8bb75b59-232d-4cfb-b147-a8e5d9b6bb52')\"\n",
       "            title=\"Suggest charts\"\n",
       "            style=\"display:none;\">\n",
       "\n",
       "<svg xmlns=\"http://www.w3.org/2000/svg\" height=\"24px\"viewBox=\"0 0 24 24\"\n",
       "     width=\"24px\">\n",
       "    <g>\n",
       "        <path d=\"M19 3H5c-1.1 0-2 .9-2 2v14c0 1.1.9 2 2 2h14c1.1 0 2-.9 2-2V5c0-1.1-.9-2-2-2zM9 17H7v-7h2v7zm4 0h-2V7h2v10zm4 0h-2v-4h2v4z\"/>\n",
       "    </g>\n",
       "</svg>\n",
       "  </button>\n",
       "\n",
       "<style>\n",
       "  .colab-df-quickchart {\n",
       "      --bg-color: #E8F0FE;\n",
       "      --fill-color: #1967D2;\n",
       "      --hover-bg-color: #E2EBFA;\n",
       "      --hover-fill-color: #174EA6;\n",
       "      --disabled-fill-color: #AAA;\n",
       "      --disabled-bg-color: #DDD;\n",
       "  }\n",
       "\n",
       "  [theme=dark] .colab-df-quickchart {\n",
       "      --bg-color: #3B4455;\n",
       "      --fill-color: #D2E3FC;\n",
       "      --hover-bg-color: #434B5C;\n",
       "      --hover-fill-color: #FFFFFF;\n",
       "      --disabled-bg-color: #3B4455;\n",
       "      --disabled-fill-color: #666;\n",
       "  }\n",
       "\n",
       "  .colab-df-quickchart {\n",
       "    background-color: var(--bg-color);\n",
       "    border: none;\n",
       "    border-radius: 50%;\n",
       "    cursor: pointer;\n",
       "    display: none;\n",
       "    fill: var(--fill-color);\n",
       "    height: 32px;\n",
       "    padding: 0;\n",
       "    width: 32px;\n",
       "  }\n",
       "\n",
       "  .colab-df-quickchart:hover {\n",
       "    background-color: var(--hover-bg-color);\n",
       "    box-shadow: 0 1px 2px rgba(60, 64, 67, 0.3), 0 1px 3px 1px rgba(60, 64, 67, 0.15);\n",
       "    fill: var(--button-hover-fill-color);\n",
       "  }\n",
       "\n",
       "  .colab-df-quickchart-complete:disabled,\n",
       "  .colab-df-quickchart-complete:disabled:hover {\n",
       "    background-color: var(--disabled-bg-color);\n",
       "    fill: var(--disabled-fill-color);\n",
       "    box-shadow: none;\n",
       "  }\n",
       "\n",
       "  .colab-df-spinner {\n",
       "    border: 2px solid var(--fill-color);\n",
       "    border-color: transparent;\n",
       "    border-bottom-color: var(--fill-color);\n",
       "    animation:\n",
       "      spin 1s steps(1) infinite;\n",
       "  }\n",
       "\n",
       "  @keyframes spin {\n",
       "    0% {\n",
       "      border-color: transparent;\n",
       "      border-bottom-color: var(--fill-color);\n",
       "      border-left-color: var(--fill-color);\n",
       "    }\n",
       "    20% {\n",
       "      border-color: transparent;\n",
       "      border-left-color: var(--fill-color);\n",
       "      border-top-color: var(--fill-color);\n",
       "    }\n",
       "    30% {\n",
       "      border-color: transparent;\n",
       "      border-left-color: var(--fill-color);\n",
       "      border-top-color: var(--fill-color);\n",
       "      border-right-color: var(--fill-color);\n",
       "    }\n",
       "    40% {\n",
       "      border-color: transparent;\n",
       "      border-right-color: var(--fill-color);\n",
       "      border-top-color: var(--fill-color);\n",
       "    }\n",
       "    60% {\n",
       "      border-color: transparent;\n",
       "      border-right-color: var(--fill-color);\n",
       "    }\n",
       "    80% {\n",
       "      border-color: transparent;\n",
       "      border-right-color: var(--fill-color);\n",
       "      border-bottom-color: var(--fill-color);\n",
       "    }\n",
       "    90% {\n",
       "      border-color: transparent;\n",
       "      border-bottom-color: var(--fill-color);\n",
       "    }\n",
       "  }\n",
       "</style>\n",
       "\n",
       "  <script>\n",
       "    async function quickchart(key) {\n",
       "      const quickchartButtonEl =\n",
       "        document.querySelector('#' + key + ' button');\n",
       "      quickchartButtonEl.disabled = true;  // To prevent multiple clicks.\n",
       "      quickchartButtonEl.classList.add('colab-df-spinner');\n",
       "      try {\n",
       "        const charts = await google.colab.kernel.invokeFunction(\n",
       "            'suggestCharts', [key], {});\n",
       "      } catch (error) {\n",
       "        console.error('Error during call to suggestCharts:', error);\n",
       "      }\n",
       "      quickchartButtonEl.classList.remove('colab-df-spinner');\n",
       "      quickchartButtonEl.classList.add('colab-df-quickchart-complete');\n",
       "    }\n",
       "    (() => {\n",
       "      let quickchartButtonEl =\n",
       "        document.querySelector('#df-8bb75b59-232d-4cfb-b147-a8e5d9b6bb52 button');\n",
       "      quickchartButtonEl.style.display =\n",
       "        google.colab.kernel.accessAllowed ? 'block' : 'none';\n",
       "    })();\n",
       "  </script>\n",
       "</div>\n",
       "\n",
       "    </div>\n",
       "  </div>\n"
      ],
      "text/plain": [
       "   No  X1 transaction date  X2 house age  \\\n",
       "0   1             2012.917          32.0   \n",
       "1   2             2012.917          19.5   \n",
       "2   3             2013.583          13.3   \n",
       "3   4             2013.500          13.3   \n",
       "4   5             2012.833           5.0   \n",
       "\n",
       "   X3 distance to the nearest MRT station  X4 number of convenience stores  \\\n",
       "0                                84.87882                               10   \n",
       "1                               306.59470                                9   \n",
       "2                               561.98450                                5   \n",
       "3                               561.98450                                5   \n",
       "4                               390.56840                                5   \n",
       "\n",
       "   X5 latitude  X6 longitude  Y house price of unit area  \n",
       "0     24.98298     121.54024                        37.9  \n",
       "1     24.98034     121.53951                        42.2  \n",
       "2     24.98746     121.54391                        47.3  \n",
       "3     24.98746     121.54391                        54.8  \n",
       "4     24.97937     121.54245                        43.1  "
      ]
     },
     "execution_count": 5,
     "metadata": {},
     "output_type": "execute_result"
    }
   ],
   "source": [
    "\n",
    "# Load the dataset\n",
    "df = pd.read_csv('/content/drive/MyDrive/Concept and technologies of Ai/Real estate.csv')\n",
    "\n",
    "df.head()"
   ]
  },
  {
   "cell_type": "code",
   "execution_count": 6,
   "id": "28cad36d",
   "metadata": {
    "colab": {
     "base_uri": "https://localhost:8080/"
    },
    "executionInfo": {
     "elapsed": 19,
     "status": "ok",
     "timestamp": 1739126076075,
     "user": {
      "displayName": "Aayushma Mahar",
      "userId": "04510113300812976654"
     },
     "user_tz": -345
    },
    "id": "28cad36d",
    "outputId": "bb6856ca-f771-41a3-ebb6-e9e97f8b78fc"
   },
   "outputs": [
    {
     "data": {
      "text/plain": [
       "(414, 8)"
      ]
     },
     "execution_count": 6,
     "metadata": {},
     "output_type": "execute_result"
    }
   ],
   "source": [
    "df.shape"
   ]
  },
  {
   "cell_type": "markdown",
   "id": "22ed5ba7",
   "metadata": {
    "id": "22ed5ba7"
   },
   "source": [
    "## checking for missing values"
   ]
  },
  {
   "cell_type": "code",
   "execution_count": 8,
   "id": "83ed6062",
   "metadata": {
    "colab": {
     "base_uri": "https://localhost:8080/",
     "height": 335
    },
    "executionInfo": {
     "elapsed": 98,
     "status": "ok",
     "timestamp": 1739126093082,
     "user": {
      "displayName": "Aayushma Mahar",
      "userId": "04510113300812976654"
     },
     "user_tz": -345
    },
    "id": "83ed6062",
    "outputId": "16142c21-d985-4592-a57e-3d7f25856639"
   },
   "outputs": [
    {
     "data": {
      "text/html": [
       "<div>\n",
       "<style scoped>\n",
       "    .dataframe tbody tr th:only-of-type {\n",
       "        vertical-align: middle;\n",
       "    }\n",
       "\n",
       "    .dataframe tbody tr th {\n",
       "        vertical-align: top;\n",
       "    }\n",
       "\n",
       "    .dataframe thead th {\n",
       "        text-align: right;\n",
       "    }\n",
       "</style>\n",
       "<table border=\"1\" class=\"dataframe\">\n",
       "  <thead>\n",
       "    <tr style=\"text-align: right;\">\n",
       "      <th></th>\n",
       "      <th>0</th>\n",
       "    </tr>\n",
       "  </thead>\n",
       "  <tbody>\n",
       "    <tr>\n",
       "      <th>No</th>\n",
       "      <td>0</td>\n",
       "    </tr>\n",
       "    <tr>\n",
       "      <th>X1 transaction date</th>\n",
       "      <td>0</td>\n",
       "    </tr>\n",
       "    <tr>\n",
       "      <th>X2 house age</th>\n",
       "      <td>0</td>\n",
       "    </tr>\n",
       "    <tr>\n",
       "      <th>X3 distance to the nearest MRT station</th>\n",
       "      <td>0</td>\n",
       "    </tr>\n",
       "    <tr>\n",
       "      <th>X4 number of convenience stores</th>\n",
       "      <td>0</td>\n",
       "    </tr>\n",
       "    <tr>\n",
       "      <th>X5 latitude</th>\n",
       "      <td>0</td>\n",
       "    </tr>\n",
       "    <tr>\n",
       "      <th>X6 longitude</th>\n",
       "      <td>0</td>\n",
       "    </tr>\n",
       "    <tr>\n",
       "      <th>Y house price of unit area</th>\n",
       "      <td>0</td>\n",
       "    </tr>\n",
       "  </tbody>\n",
       "</table>\n",
       "</div><br><label><b>dtype:</b> int64</label>"
      ],
      "text/plain": [
       "No                                        0\n",
       "X1 transaction date                       0\n",
       "X2 house age                              0\n",
       "X3 distance to the nearest MRT station    0\n",
       "X4 number of convenience stores           0\n",
       "X5 latitude                               0\n",
       "X6 longitude                              0\n",
       "Y house price of unit area                0\n",
       "dtype: int64"
      ]
     },
     "execution_count": 8,
     "metadata": {},
     "output_type": "execute_result"
    }
   ],
   "source": [
    "df.isnull().sum()"
   ]
  },
  {
   "cell_type": "markdown",
   "id": "78e589e4",
   "metadata": {
    "id": "78e589e4"
   },
   "source": [
    "### removing categorical columns"
   ]
  },
  {
   "cell_type": "code",
   "execution_count": 9,
   "id": "1ff483ad",
   "metadata": {
    "executionInfo": {
     "elapsed": 9,
     "status": "ok",
     "timestamp": 1739126100805,
     "user": {
      "displayName": "Aayushma Mahar",
      "userId": "04510113300812976654"
     },
     "user_tz": -345
    },
    "id": "1ff483ad"
   },
   "outputs": [],
   "source": [
    "# Remove categorical columns and 'Year' column\n",
    "categorical_columns = df.select_dtypes(include=['object', 'category']).columns\n",
    "df.drop(columns=categorical_columns, inplace=True)  # Dropping categorical columns\n",
    "df.drop(columns='No', inplace=True)  # Dropping 'Year' column\n"
   ]
  },
  {
   "cell_type": "code",
   "execution_count": null,
   "id": "60bf4392",
   "metadata": {
    "id": "60bf4392"
   },
   "outputs": [],
   "source": [
    "## Visualization of missing value"
   ]
  },
  {
   "cell_type": "code",
   "execution_count": 10,
   "id": "d0d73a72",
   "metadata": {
    "colab": {
     "base_uri": "https://localhost:8080/"
    },
    "executionInfo": {
     "elapsed": 25,
     "status": "ok",
     "timestamp": 1739126104026,
     "user": {
      "displayName": "Aayushma Mahar",
      "userId": "04510113300812976654"
     },
     "user_tz": -345
    },
    "id": "d0d73a72",
    "outputId": "5cff247d-39dd-460a-f9d1-b5f6a05183bc",
    "scrolled": true
   },
   "outputs": [
    {
     "name": "stdout",
     "output_type": "stream",
     "text": [
      "Columns with more than 10% missing values: []\n",
      "Cleaned DataFrame shape: (414, 7)\n"
     ]
    }
   ],
   "source": [
    "# Calculate the percentage of missing values in each column\n",
    "missing_percentage = df.isnull().mean() * 100\n",
    "\n",
    "# Identify columns with more than 10% missing values\n",
    "columns_to_drop = missing_percentage[missing_percentage > 10].index\n",
    "\n",
    "# Drop the columns with more than 10% missing values\n",
    "df.drop(columns=columns_to_drop, inplace=True)\n",
    "\n",
    "# Display the columns that were dropped\n",
    "print(f\"Columns with more than 10% missing values: {columns_to_drop.tolist()}\")\n",
    "\n",
    "# Show the cleaned DataFrame shape\n",
    "print(f\"Cleaned DataFrame shape: {df.shape}\")\n"
   ]
  },
  {
   "cell_type": "code",
   "execution_count": 11,
   "id": "1c0e7043",
   "metadata": {
    "colab": {
     "base_uri": "https://localhost:8080/"
    },
    "executionInfo": {
     "elapsed": 858,
     "status": "ok",
     "timestamp": 1739126107793,
     "user": {
      "displayName": "Aayushma Mahar",
      "userId": "04510113300812976654"
     },
     "user_tz": -345
    },
    "id": "1c0e7043",
    "outputId": "c26b59de-8b42-47bc-8ffd-28dba8973222"
   },
   "outputs": [
    {
     "name": "stdout",
     "output_type": "stream",
     "text": [
      "No categorical columns to impute.\n",
      "Missing values after imputation: \n",
      "X1 transaction date                       0\n",
      "X2 house age                              0\n",
      "X3 distance to the nearest MRT station    0\n",
      "X4 number of convenience stores           0\n",
      "X5 latitude                               0\n",
      "X6 longitude                              0\n",
      "Y house price of unit area                0\n",
      "dtype: int64\n"
     ]
    }
   ],
   "source": [
    "from sklearn.impute import SimpleImputer\n",
    "\n",
    "# Impute missing values for numerical columns using median\n",
    "numerical_imputer = SimpleImputer(strategy='median')\n",
    "\n",
    "# Select only numerical columns\n",
    "numerical_columns = df.select_dtypes(include=['float64', 'int64']).columns\n",
    "\n",
    "# Apply the imputer to the numerical columns\n",
    "df[numerical_columns] = numerical_imputer.fit_transform(df[numerical_columns])\n",
    "\n",
    "# Check if any categorical columns exist and impute if necessary\n",
    "categorical_columns = df.select_dtypes(include=['object']).columns\n",
    "\n",
    "# Only perform categorical imputation if there are categorical columns\n",
    "if categorical_columns.size > 0:\n",
    "    categorical_imputer = SimpleImputer(strategy='most_frequent')\n",
    "    df[categorical_columns] = categorical_imputer.fit_transform(df[categorical_columns])\n",
    "else:\n",
    "    print(\"No categorical columns to impute.\")\n",
    "\n",
    "# Check the missing values after imputation\n",
    "print(f\"Missing values after imputation: \\n{df.isnull().sum()}\")\n"
   ]
  },
  {
   "cell_type": "markdown",
   "id": "5ff3b2b4",
   "metadata": {
    "id": "5ff3b2b4"
   },
   "source": [
    "## Basic visualizations after cleaned df"
   ]
  },
  {
   "cell_type": "code",
   "execution_count": null,
   "id": "89367014",
   "metadata": {
    "colab": {
     "base_uri": "https://localhost:8080/",
     "height": 223
    },
    "executionInfo": {
     "elapsed": 31,
     "status": "ok",
     "timestamp": 1739027040109,
     "user": {
      "displayName": "Aashish Shrestha",
      "userId": "11224514173543813789"
     },
     "user_tz": -345
    },
    "id": "89367014",
    "outputId": "7e9ee975-f987-4d14-c183-bfaac0b61684",
    "scrolled": true
   },
   "outputs": [
    {
     "data": {
      "application/vnd.google.colaboratory.intrinsic+json": {
       "summary": "{\n  \"name\": \"df\",\n  \"rows\": 414,\n  \"fields\": [\n    {\n      \"column\": \"X1 transaction date\",\n      \"properties\": {\n        \"dtype\": \"number\",\n        \"std\": 0.2819672402630118,\n        \"min\": 2012.667,\n        \"max\": 2013.583,\n        \"num_unique_values\": 12,\n        \"samples\": [\n          2013.0,\n          2012.75,\n          2012.917\n        ],\n        \"semantic_type\": \"\",\n        \"description\": \"\"\n      }\n    },\n    {\n      \"column\": \"X2 house age\",\n      \"properties\": {\n        \"dtype\": \"number\",\n        \"std\": 11.392484533242536,\n        \"min\": 0.0,\n        \"max\": 43.8,\n        \"num_unique_values\": 236,\n        \"samples\": [\n          38.2,\n          3.4,\n          27.5\n        ],\n        \"semantic_type\": \"\",\n        \"description\": \"\"\n      }\n    },\n    {\n      \"column\": \"X3 distance to the nearest MRT station\",\n      \"properties\": {\n        \"dtype\": \"number\",\n        \"std\": 1262.1095954078514,\n        \"min\": 23.38284,\n        \"max\": 6488.021,\n        \"num_unique_values\": 259,\n        \"samples\": [\n          552.4371,\n          4605.749,\n          405.2134\n        ],\n        \"semantic_type\": \"\",\n        \"description\": \"\"\n      }\n    },\n    {\n      \"column\": \"X4 number of convenience stores\",\n      \"properties\": {\n        \"dtype\": \"number\",\n        \"std\": 2.945561805663617,\n        \"min\": 0.0,\n        \"max\": 10.0,\n        \"num_unique_values\": 11,\n        \"samples\": [\n          6.0,\n          10.0,\n          8.0\n        ],\n        \"semantic_type\": \"\",\n        \"description\": \"\"\n      }\n    },\n    {\n      \"column\": \"X5 latitude\",\n      \"properties\": {\n        \"dtype\": \"number\",\n        \"std\": 0.012410196590450335,\n        \"min\": 24.93207,\n        \"max\": 25.01459,\n        \"num_unique_values\": 234,\n        \"samples\": [\n          24.98573,\n          24.96143,\n          24.96696\n        ],\n        \"semantic_type\": \"\",\n        \"description\": \"\"\n      }\n    },\n    {\n      \"column\": \"X6 longitude\",\n      \"properties\": {\n        \"dtype\": \"number\",\n        \"std\": 0.015347183004592205,\n        \"min\": 121.47353,\n        \"max\": 121.56627,\n        \"num_unique_values\": 232,\n        \"samples\": [\n          121.54634,\n          121.50831,\n          121.53372\n        ],\n        \"semantic_type\": \"\",\n        \"description\": \"\"\n      }\n    },\n    {\n      \"column\": \"Y house price of unit area\",\n      \"properties\": {\n        \"dtype\": \"number\",\n        \"std\": 13.606487697735314,\n        \"min\": 7.6,\n        \"max\": 117.5,\n        \"num_unique_values\": 270,\n        \"samples\": [\n          25.0,\n          30.7,\n          18.3\n        ],\n        \"semantic_type\": \"\",\n        \"description\": \"\"\n      }\n    }\n  ]\n}",
       "type": "dataframe",
       "variable_name": "df"
      },
      "text/html": [
       "\n",
       "  <div id=\"df-20a63f49-c99e-4e0b-94d5-f378b91668d0\" class=\"colab-df-container\">\n",
       "    <div>\n",
       "<style scoped>\n",
       "    .dataframe tbody tr th:only-of-type {\n",
       "        vertical-align: middle;\n",
       "    }\n",
       "\n",
       "    .dataframe tbody tr th {\n",
       "        vertical-align: top;\n",
       "    }\n",
       "\n",
       "    .dataframe thead th {\n",
       "        text-align: right;\n",
       "    }\n",
       "</style>\n",
       "<table border=\"1\" class=\"dataframe\">\n",
       "  <thead>\n",
       "    <tr style=\"text-align: right;\">\n",
       "      <th></th>\n",
       "      <th>X1 transaction date</th>\n",
       "      <th>X2 house age</th>\n",
       "      <th>X3 distance to the nearest MRT station</th>\n",
       "      <th>X4 number of convenience stores</th>\n",
       "      <th>X5 latitude</th>\n",
       "      <th>X6 longitude</th>\n",
       "      <th>Y house price of unit area</th>\n",
       "    </tr>\n",
       "  </thead>\n",
       "  <tbody>\n",
       "    <tr>\n",
       "      <th>0</th>\n",
       "      <td>2012.917</td>\n",
       "      <td>32.0</td>\n",
       "      <td>84.87882</td>\n",
       "      <td>10.0</td>\n",
       "      <td>24.98298</td>\n",
       "      <td>121.54024</td>\n",
       "      <td>37.9</td>\n",
       "    </tr>\n",
       "    <tr>\n",
       "      <th>1</th>\n",
       "      <td>2012.917</td>\n",
       "      <td>19.5</td>\n",
       "      <td>306.59470</td>\n",
       "      <td>9.0</td>\n",
       "      <td>24.98034</td>\n",
       "      <td>121.53951</td>\n",
       "      <td>42.2</td>\n",
       "    </tr>\n",
       "    <tr>\n",
       "      <th>2</th>\n",
       "      <td>2013.583</td>\n",
       "      <td>13.3</td>\n",
       "      <td>561.98450</td>\n",
       "      <td>5.0</td>\n",
       "      <td>24.98746</td>\n",
       "      <td>121.54391</td>\n",
       "      <td>47.3</td>\n",
       "    </tr>\n",
       "    <tr>\n",
       "      <th>3</th>\n",
       "      <td>2013.500</td>\n",
       "      <td>13.3</td>\n",
       "      <td>561.98450</td>\n",
       "      <td>5.0</td>\n",
       "      <td>24.98746</td>\n",
       "      <td>121.54391</td>\n",
       "      <td>54.8</td>\n",
       "    </tr>\n",
       "    <tr>\n",
       "      <th>4</th>\n",
       "      <td>2012.833</td>\n",
       "      <td>5.0</td>\n",
       "      <td>390.56840</td>\n",
       "      <td>5.0</td>\n",
       "      <td>24.97937</td>\n",
       "      <td>121.54245</td>\n",
       "      <td>43.1</td>\n",
       "    </tr>\n",
       "  </tbody>\n",
       "</table>\n",
       "</div>\n",
       "    <div class=\"colab-df-buttons\">\n",
       "\n",
       "  <div class=\"colab-df-container\">\n",
       "    <button class=\"colab-df-convert\" onclick=\"convertToInteractive('df-20a63f49-c99e-4e0b-94d5-f378b91668d0')\"\n",
       "            title=\"Convert this dataframe to an interactive table.\"\n",
       "            style=\"display:none;\">\n",
       "\n",
       "  <svg xmlns=\"http://www.w3.org/2000/svg\" height=\"24px\" viewBox=\"0 -960 960 960\">\n",
       "    <path d=\"M120-120v-720h720v720H120Zm60-500h600v-160H180v160Zm220 220h160v-160H400v160Zm0 220h160v-160H400v160ZM180-400h160v-160H180v160Zm440 0h160v-160H620v160ZM180-180h160v-160H180v160Zm440 0h160v-160H620v160Z\"/>\n",
       "  </svg>\n",
       "    </button>\n",
       "\n",
       "  <style>\n",
       "    .colab-df-container {\n",
       "      display:flex;\n",
       "      gap: 12px;\n",
       "    }\n",
       "\n",
       "    .colab-df-convert {\n",
       "      background-color: #E8F0FE;\n",
       "      border: none;\n",
       "      border-radius: 50%;\n",
       "      cursor: pointer;\n",
       "      display: none;\n",
       "      fill: #1967D2;\n",
       "      height: 32px;\n",
       "      padding: 0 0 0 0;\n",
       "      width: 32px;\n",
       "    }\n",
       "\n",
       "    .colab-df-convert:hover {\n",
       "      background-color: #E2EBFA;\n",
       "      box-shadow: 0px 1px 2px rgba(60, 64, 67, 0.3), 0px 1px 3px 1px rgba(60, 64, 67, 0.15);\n",
       "      fill: #174EA6;\n",
       "    }\n",
       "\n",
       "    .colab-df-buttons div {\n",
       "      margin-bottom: 4px;\n",
       "    }\n",
       "\n",
       "    [theme=dark] .colab-df-convert {\n",
       "      background-color: #3B4455;\n",
       "      fill: #D2E3FC;\n",
       "    }\n",
       "\n",
       "    [theme=dark] .colab-df-convert:hover {\n",
       "      background-color: #434B5C;\n",
       "      box-shadow: 0px 1px 3px 1px rgba(0, 0, 0, 0.15);\n",
       "      filter: drop-shadow(0px 1px 2px rgba(0, 0, 0, 0.3));\n",
       "      fill: #FFFFFF;\n",
       "    }\n",
       "  </style>\n",
       "\n",
       "    <script>\n",
       "      const buttonEl =\n",
       "        document.querySelector('#df-20a63f49-c99e-4e0b-94d5-f378b91668d0 button.colab-df-convert');\n",
       "      buttonEl.style.display =\n",
       "        google.colab.kernel.accessAllowed ? 'block' : 'none';\n",
       "\n",
       "      async function convertToInteractive(key) {\n",
       "        const element = document.querySelector('#df-20a63f49-c99e-4e0b-94d5-f378b91668d0');\n",
       "        const dataTable =\n",
       "          await google.colab.kernel.invokeFunction('convertToInteractive',\n",
       "                                                    [key], {});\n",
       "        if (!dataTable) return;\n",
       "\n",
       "        const docLinkHtml = 'Like what you see? Visit the ' +\n",
       "          '<a target=\"_blank\" href=https://colab.research.google.com/notebooks/data_table.ipynb>data table notebook</a>'\n",
       "          + ' to learn more about interactive tables.';\n",
       "        element.innerHTML = '';\n",
       "        dataTable['output_type'] = 'display_data';\n",
       "        await google.colab.output.renderOutput(dataTable, element);\n",
       "        const docLink = document.createElement('div');\n",
       "        docLink.innerHTML = docLinkHtml;\n",
       "        element.appendChild(docLink);\n",
       "      }\n",
       "    </script>\n",
       "  </div>\n",
       "\n",
       "\n",
       "<div id=\"df-44d37fb4-134d-4d43-9063-c3f96ef431ca\">\n",
       "  <button class=\"colab-df-quickchart\" onclick=\"quickchart('df-44d37fb4-134d-4d43-9063-c3f96ef431ca')\"\n",
       "            title=\"Suggest charts\"\n",
       "            style=\"display:none;\">\n",
       "\n",
       "<svg xmlns=\"http://www.w3.org/2000/svg\" height=\"24px\"viewBox=\"0 0 24 24\"\n",
       "     width=\"24px\">\n",
       "    <g>\n",
       "        <path d=\"M19 3H5c-1.1 0-2 .9-2 2v14c0 1.1.9 2 2 2h14c1.1 0 2-.9 2-2V5c0-1.1-.9-2-2-2zM9 17H7v-7h2v7zm4 0h-2V7h2v10zm4 0h-2v-4h2v4z\"/>\n",
       "    </g>\n",
       "</svg>\n",
       "  </button>\n",
       "\n",
       "<style>\n",
       "  .colab-df-quickchart {\n",
       "      --bg-color: #E8F0FE;\n",
       "      --fill-color: #1967D2;\n",
       "      --hover-bg-color: #E2EBFA;\n",
       "      --hover-fill-color: #174EA6;\n",
       "      --disabled-fill-color: #AAA;\n",
       "      --disabled-bg-color: #DDD;\n",
       "  }\n",
       "\n",
       "  [theme=dark] .colab-df-quickchart {\n",
       "      --bg-color: #3B4455;\n",
       "      --fill-color: #D2E3FC;\n",
       "      --hover-bg-color: #434B5C;\n",
       "      --hover-fill-color: #FFFFFF;\n",
       "      --disabled-bg-color: #3B4455;\n",
       "      --disabled-fill-color: #666;\n",
       "  }\n",
       "\n",
       "  .colab-df-quickchart {\n",
       "    background-color: var(--bg-color);\n",
       "    border: none;\n",
       "    border-radius: 50%;\n",
       "    cursor: pointer;\n",
       "    display: none;\n",
       "    fill: var(--fill-color);\n",
       "    height: 32px;\n",
       "    padding: 0;\n",
       "    width: 32px;\n",
       "  }\n",
       "\n",
       "  .colab-df-quickchart:hover {\n",
       "    background-color: var(--hover-bg-color);\n",
       "    box-shadow: 0 1px 2px rgba(60, 64, 67, 0.3), 0 1px 3px 1px rgba(60, 64, 67, 0.15);\n",
       "    fill: var(--button-hover-fill-color);\n",
       "  }\n",
       "\n",
       "  .colab-df-quickchart-complete:disabled,\n",
       "  .colab-df-quickchart-complete:disabled:hover {\n",
       "    background-color: var(--disabled-bg-color);\n",
       "    fill: var(--disabled-fill-color);\n",
       "    box-shadow: none;\n",
       "  }\n",
       "\n",
       "  .colab-df-spinner {\n",
       "    border: 2px solid var(--fill-color);\n",
       "    border-color: transparent;\n",
       "    border-bottom-color: var(--fill-color);\n",
       "    animation:\n",
       "      spin 1s steps(1) infinite;\n",
       "  }\n",
       "\n",
       "  @keyframes spin {\n",
       "    0% {\n",
       "      border-color: transparent;\n",
       "      border-bottom-color: var(--fill-color);\n",
       "      border-left-color: var(--fill-color);\n",
       "    }\n",
       "    20% {\n",
       "      border-color: transparent;\n",
       "      border-left-color: var(--fill-color);\n",
       "      border-top-color: var(--fill-color);\n",
       "    }\n",
       "    30% {\n",
       "      border-color: transparent;\n",
       "      border-left-color: var(--fill-color);\n",
       "      border-top-color: var(--fill-color);\n",
       "      border-right-color: var(--fill-color);\n",
       "    }\n",
       "    40% {\n",
       "      border-color: transparent;\n",
       "      border-right-color: var(--fill-color);\n",
       "      border-top-color: var(--fill-color);\n",
       "    }\n",
       "    60% {\n",
       "      border-color: transparent;\n",
       "      border-right-color: var(--fill-color);\n",
       "    }\n",
       "    80% {\n",
       "      border-color: transparent;\n",
       "      border-right-color: var(--fill-color);\n",
       "      border-bottom-color: var(--fill-color);\n",
       "    }\n",
       "    90% {\n",
       "      border-color: transparent;\n",
       "      border-bottom-color: var(--fill-color);\n",
       "    }\n",
       "  }\n",
       "</style>\n",
       "\n",
       "  <script>\n",
       "    async function quickchart(key) {\n",
       "      const quickchartButtonEl =\n",
       "        document.querySelector('#' + key + ' button');\n",
       "      quickchartButtonEl.disabled = true;  // To prevent multiple clicks.\n",
       "      quickchartButtonEl.classList.add('colab-df-spinner');\n",
       "      try {\n",
       "        const charts = await google.colab.kernel.invokeFunction(\n",
       "            'suggestCharts', [key], {});\n",
       "      } catch (error) {\n",
       "        console.error('Error during call to suggestCharts:', error);\n",
       "      }\n",
       "      quickchartButtonEl.classList.remove('colab-df-spinner');\n",
       "      quickchartButtonEl.classList.add('colab-df-quickchart-complete');\n",
       "    }\n",
       "    (() => {\n",
       "      let quickchartButtonEl =\n",
       "        document.querySelector('#df-44d37fb4-134d-4d43-9063-c3f96ef431ca button');\n",
       "      quickchartButtonEl.style.display =\n",
       "        google.colab.kernel.accessAllowed ? 'block' : 'none';\n",
       "    })();\n",
       "  </script>\n",
       "</div>\n",
       "\n",
       "    </div>\n",
       "  </div>\n"
      ],
      "text/plain": [
       "   X1 transaction date  X2 house age  X3 distance to the nearest MRT station  \\\n",
       "0             2012.917          32.0                                84.87882   \n",
       "1             2012.917          19.5                               306.59470   \n",
       "2             2013.583          13.3                               561.98450   \n",
       "3             2013.500          13.3                               561.98450   \n",
       "4             2012.833           5.0                               390.56840   \n",
       "\n",
       "   X4 number of convenience stores  X5 latitude  X6 longitude  \\\n",
       "0                             10.0     24.98298     121.54024   \n",
       "1                              9.0     24.98034     121.53951   \n",
       "2                              5.0     24.98746     121.54391   \n",
       "3                              5.0     24.98746     121.54391   \n",
       "4                              5.0     24.97937     121.54245   \n",
       "\n",
       "   Y house price of unit area  \n",
       "0                        37.9  \n",
       "1                        42.2  \n",
       "2                        47.3  \n",
       "3                        54.8  \n",
       "4                        43.1  "
      ]
     },
     "execution_count": 13,
     "metadata": {},
     "output_type": "execute_result"
    }
   ],
   "source": [
    "df.head()"
   ]
  },
  {
   "cell_type": "code",
   "execution_count": null,
   "id": "60282998",
   "metadata": {
    "colab": {
     "base_uri": "https://localhost:8080/",
     "height": 317
    },
    "executionInfo": {
     "elapsed": 50,
     "status": "ok",
     "timestamp": 1739027050872,
     "user": {
      "displayName": "Aashish Shrestha",
      "userId": "11224514173543813789"
     },
     "user_tz": -345
    },
    "id": "60282998",
    "outputId": "96128d64-72b5-41c9-d819-3812cddfa8d9"
   },
   "outputs": [
    {
     "data": {
      "application/vnd.google.colaboratory.intrinsic+json": {
       "summary": "{\n  \"name\": \"df\",\n  \"rows\": 8,\n  \"fields\": [\n    {\n      \"column\": \"X1 transaction date\",\n      \"properties\": {\n        \"dtype\": \"number\",\n        \"std\": 843.3000378322719,\n        \"min\": 0.2819672402630118,\n        \"max\": 2013.583,\n        \"num_unique_values\": 8,\n        \"samples\": [\n          2013.1489710144926,\n          2013.167,\n          414.0\n        ],\n        \"semantic_type\": \"\",\n        \"description\": \"\"\n      }\n    },\n    {\n      \"column\": \"X2 house age\",\n      \"properties\": {\n        \"dtype\": \"number\",\n        \"std\": 140.61941367093425,\n        \"min\": 0.0,\n        \"max\": 414.0,\n        \"num_unique_values\": 8,\n        \"samples\": [\n          17.71256038647343,\n          16.1,\n          414.0\n        ],\n        \"semantic_type\": \"\",\n        \"description\": \"\"\n      }\n    },\n    {\n      \"column\": \"X3 distance to the nearest MRT station\",\n      \"properties\": {\n        \"dtype\": \"number\",\n        \"std\": 2101.800623848225,\n        \"min\": 23.38284,\n        \"max\": 6488.021,\n        \"num_unique_values\": 8,\n        \"samples\": [\n          1083.8856889130436,\n          492.2313,\n          414.0\n        ],\n        \"semantic_type\": \"\",\n        \"description\": \"\"\n      }\n    },\n    {\n      \"column\": \"X4 number of convenience stores\",\n      \"properties\": {\n        \"dtype\": \"number\",\n        \"std\": 144.98745986870523,\n        \"min\": 0.0,\n        \"max\": 414.0,\n        \"num_unique_values\": 8,\n        \"samples\": [\n          4.094202898550725,\n          4.0,\n          414.0\n        ],\n        \"semantic_type\": \"\",\n        \"description\": \"\"\n      }\n    },\n    {\n      \"column\": \"X5 latitude\",\n      \"properties\": {\n        \"dtype\": \"number\",\n        \"std\": 139.0775612485308,\n        \"min\": 0.012410196590450335,\n        \"max\": 414.0,\n        \"num_unique_values\": 8,\n        \"samples\": [\n          24.969030072463767,\n          24.9711,\n          414.0\n        ],\n        \"semantic_type\": \"\",\n        \"description\": \"\"\n      }\n    },\n    {\n      \"column\": \"X6 longitude\",\n      \"properties\": {\n        \"dtype\": \"number\",\n        \"std\": 117.5045070391186,\n        \"min\": 0.015347183004592205,\n        \"max\": 414.0,\n        \"num_unique_values\": 8,\n        \"samples\": [\n          121.53336108695655,\n          121.53863,\n          414.0\n        ],\n        \"semantic_type\": \"\",\n        \"description\": \"\"\n      }\n    },\n    {\n      \"column\": \"Y house price of unit area\",\n      \"properties\": {\n        \"dtype\": \"number\",\n        \"std\": 135.98949464428566,\n        \"min\": 7.6,\n        \"max\": 414.0,\n        \"num_unique_values\": 8,\n        \"samples\": [\n          37.980193236714975,\n          38.45,\n          414.0\n        ],\n        \"semantic_type\": \"\",\n        \"description\": \"\"\n      }\n    }\n  ]\n}",
       "type": "dataframe"
      },
      "text/html": [
       "\n",
       "  <div id=\"df-20ad1d4e-b424-4cb0-aed3-c6fba252ae1a\" class=\"colab-df-container\">\n",
       "    <div>\n",
       "<style scoped>\n",
       "    .dataframe tbody tr th:only-of-type {\n",
       "        vertical-align: middle;\n",
       "    }\n",
       "\n",
       "    .dataframe tbody tr th {\n",
       "        vertical-align: top;\n",
       "    }\n",
       "\n",
       "    .dataframe thead th {\n",
       "        text-align: right;\n",
       "    }\n",
       "</style>\n",
       "<table border=\"1\" class=\"dataframe\">\n",
       "  <thead>\n",
       "    <tr style=\"text-align: right;\">\n",
       "      <th></th>\n",
       "      <th>X1 transaction date</th>\n",
       "      <th>X2 house age</th>\n",
       "      <th>X3 distance to the nearest MRT station</th>\n",
       "      <th>X4 number of convenience stores</th>\n",
       "      <th>X5 latitude</th>\n",
       "      <th>X6 longitude</th>\n",
       "      <th>Y house price of unit area</th>\n",
       "    </tr>\n",
       "  </thead>\n",
       "  <tbody>\n",
       "    <tr>\n",
       "      <th>count</th>\n",
       "      <td>414.000000</td>\n",
       "      <td>414.000000</td>\n",
       "      <td>414.000000</td>\n",
       "      <td>414.000000</td>\n",
       "      <td>414.000000</td>\n",
       "      <td>414.000000</td>\n",
       "      <td>414.000000</td>\n",
       "    </tr>\n",
       "    <tr>\n",
       "      <th>mean</th>\n",
       "      <td>2013.148971</td>\n",
       "      <td>17.712560</td>\n",
       "      <td>1083.885689</td>\n",
       "      <td>4.094203</td>\n",
       "      <td>24.969030</td>\n",
       "      <td>121.533361</td>\n",
       "      <td>37.980193</td>\n",
       "    </tr>\n",
       "    <tr>\n",
       "      <th>std</th>\n",
       "      <td>0.281967</td>\n",
       "      <td>11.392485</td>\n",
       "      <td>1262.109595</td>\n",
       "      <td>2.945562</td>\n",
       "      <td>0.012410</td>\n",
       "      <td>0.015347</td>\n",
       "      <td>13.606488</td>\n",
       "    </tr>\n",
       "    <tr>\n",
       "      <th>min</th>\n",
       "      <td>2012.667000</td>\n",
       "      <td>0.000000</td>\n",
       "      <td>23.382840</td>\n",
       "      <td>0.000000</td>\n",
       "      <td>24.932070</td>\n",
       "      <td>121.473530</td>\n",
       "      <td>7.600000</td>\n",
       "    </tr>\n",
       "    <tr>\n",
       "      <th>25%</th>\n",
       "      <td>2012.917000</td>\n",
       "      <td>9.025000</td>\n",
       "      <td>289.324800</td>\n",
       "      <td>1.000000</td>\n",
       "      <td>24.963000</td>\n",
       "      <td>121.528085</td>\n",
       "      <td>27.700000</td>\n",
       "    </tr>\n",
       "    <tr>\n",
       "      <th>50%</th>\n",
       "      <td>2013.167000</td>\n",
       "      <td>16.100000</td>\n",
       "      <td>492.231300</td>\n",
       "      <td>4.000000</td>\n",
       "      <td>24.971100</td>\n",
       "      <td>121.538630</td>\n",
       "      <td>38.450000</td>\n",
       "    </tr>\n",
       "    <tr>\n",
       "      <th>75%</th>\n",
       "      <td>2013.417000</td>\n",
       "      <td>28.150000</td>\n",
       "      <td>1454.279000</td>\n",
       "      <td>6.000000</td>\n",
       "      <td>24.977455</td>\n",
       "      <td>121.543305</td>\n",
       "      <td>46.600000</td>\n",
       "    </tr>\n",
       "    <tr>\n",
       "      <th>max</th>\n",
       "      <td>2013.583000</td>\n",
       "      <td>43.800000</td>\n",
       "      <td>6488.021000</td>\n",
       "      <td>10.000000</td>\n",
       "      <td>25.014590</td>\n",
       "      <td>121.566270</td>\n",
       "      <td>117.500000</td>\n",
       "    </tr>\n",
       "  </tbody>\n",
       "</table>\n",
       "</div>\n",
       "    <div class=\"colab-df-buttons\">\n",
       "\n",
       "  <div class=\"colab-df-container\">\n",
       "    <button class=\"colab-df-convert\" onclick=\"convertToInteractive('df-20ad1d4e-b424-4cb0-aed3-c6fba252ae1a')\"\n",
       "            title=\"Convert this dataframe to an interactive table.\"\n",
       "            style=\"display:none;\">\n",
       "\n",
       "  <svg xmlns=\"http://www.w3.org/2000/svg\" height=\"24px\" viewBox=\"0 -960 960 960\">\n",
       "    <path d=\"M120-120v-720h720v720H120Zm60-500h600v-160H180v160Zm220 220h160v-160H400v160Zm0 220h160v-160H400v160ZM180-400h160v-160H180v160Zm440 0h160v-160H620v160ZM180-180h160v-160H180v160Zm440 0h160v-160H620v160Z\"/>\n",
       "  </svg>\n",
       "    </button>\n",
       "\n",
       "  <style>\n",
       "    .colab-df-container {\n",
       "      display:flex;\n",
       "      gap: 12px;\n",
       "    }\n",
       "\n",
       "    .colab-df-convert {\n",
       "      background-color: #E8F0FE;\n",
       "      border: none;\n",
       "      border-radius: 50%;\n",
       "      cursor: pointer;\n",
       "      display: none;\n",
       "      fill: #1967D2;\n",
       "      height: 32px;\n",
       "      padding: 0 0 0 0;\n",
       "      width: 32px;\n",
       "    }\n",
       "\n",
       "    .colab-df-convert:hover {\n",
       "      background-color: #E2EBFA;\n",
       "      box-shadow: 0px 1px 2px rgba(60, 64, 67, 0.3), 0px 1px 3px 1px rgba(60, 64, 67, 0.15);\n",
       "      fill: #174EA6;\n",
       "    }\n",
       "\n",
       "    .colab-df-buttons div {\n",
       "      margin-bottom: 4px;\n",
       "    }\n",
       "\n",
       "    [theme=dark] .colab-df-convert {\n",
       "      background-color: #3B4455;\n",
       "      fill: #D2E3FC;\n",
       "    }\n",
       "\n",
       "    [theme=dark] .colab-df-convert:hover {\n",
       "      background-color: #434B5C;\n",
       "      box-shadow: 0px 1px 3px 1px rgba(0, 0, 0, 0.15);\n",
       "      filter: drop-shadow(0px 1px 2px rgba(0, 0, 0, 0.3));\n",
       "      fill: #FFFFFF;\n",
       "    }\n",
       "  </style>\n",
       "\n",
       "    <script>\n",
       "      const buttonEl =\n",
       "        document.querySelector('#df-20ad1d4e-b424-4cb0-aed3-c6fba252ae1a button.colab-df-convert');\n",
       "      buttonEl.style.display =\n",
       "        google.colab.kernel.accessAllowed ? 'block' : 'none';\n",
       "\n",
       "      async function convertToInteractive(key) {\n",
       "        const element = document.querySelector('#df-20ad1d4e-b424-4cb0-aed3-c6fba252ae1a');\n",
       "        const dataTable =\n",
       "          await google.colab.kernel.invokeFunction('convertToInteractive',\n",
       "                                                    [key], {});\n",
       "        if (!dataTable) return;\n",
       "\n",
       "        const docLinkHtml = 'Like what you see? Visit the ' +\n",
       "          '<a target=\"_blank\" href=https://colab.research.google.com/notebooks/data_table.ipynb>data table notebook</a>'\n",
       "          + ' to learn more about interactive tables.';\n",
       "        element.innerHTML = '';\n",
       "        dataTable['output_type'] = 'display_data';\n",
       "        await google.colab.output.renderOutput(dataTable, element);\n",
       "        const docLink = document.createElement('div');\n",
       "        docLink.innerHTML = docLinkHtml;\n",
       "        element.appendChild(docLink);\n",
       "      }\n",
       "    </script>\n",
       "  </div>\n",
       "\n",
       "\n",
       "<div id=\"df-c156ba35-fd81-4faf-8b12-64a9eb90c5bb\">\n",
       "  <button class=\"colab-df-quickchart\" onclick=\"quickchart('df-c156ba35-fd81-4faf-8b12-64a9eb90c5bb')\"\n",
       "            title=\"Suggest charts\"\n",
       "            style=\"display:none;\">\n",
       "\n",
       "<svg xmlns=\"http://www.w3.org/2000/svg\" height=\"24px\"viewBox=\"0 0 24 24\"\n",
       "     width=\"24px\">\n",
       "    <g>\n",
       "        <path d=\"M19 3H5c-1.1 0-2 .9-2 2v14c0 1.1.9 2 2 2h14c1.1 0 2-.9 2-2V5c0-1.1-.9-2-2-2zM9 17H7v-7h2v7zm4 0h-2V7h2v10zm4 0h-2v-4h2v4z\"/>\n",
       "    </g>\n",
       "</svg>\n",
       "  </button>\n",
       "\n",
       "<style>\n",
       "  .colab-df-quickchart {\n",
       "      --bg-color: #E8F0FE;\n",
       "      --fill-color: #1967D2;\n",
       "      --hover-bg-color: #E2EBFA;\n",
       "      --hover-fill-color: #174EA6;\n",
       "      --disabled-fill-color: #AAA;\n",
       "      --disabled-bg-color: #DDD;\n",
       "  }\n",
       "\n",
       "  [theme=dark] .colab-df-quickchart {\n",
       "      --bg-color: #3B4455;\n",
       "      --fill-color: #D2E3FC;\n",
       "      --hover-bg-color: #434B5C;\n",
       "      --hover-fill-color: #FFFFFF;\n",
       "      --disabled-bg-color: #3B4455;\n",
       "      --disabled-fill-color: #666;\n",
       "  }\n",
       "\n",
       "  .colab-df-quickchart {\n",
       "    background-color: var(--bg-color);\n",
       "    border: none;\n",
       "    border-radius: 50%;\n",
       "    cursor: pointer;\n",
       "    display: none;\n",
       "    fill: var(--fill-color);\n",
       "    height: 32px;\n",
       "    padding: 0;\n",
       "    width: 32px;\n",
       "  }\n",
       "\n",
       "  .colab-df-quickchart:hover {\n",
       "    background-color: var(--hover-bg-color);\n",
       "    box-shadow: 0 1px 2px rgba(60, 64, 67, 0.3), 0 1px 3px 1px rgba(60, 64, 67, 0.15);\n",
       "    fill: var(--button-hover-fill-color);\n",
       "  }\n",
       "\n",
       "  .colab-df-quickchart-complete:disabled,\n",
       "  .colab-df-quickchart-complete:disabled:hover {\n",
       "    background-color: var(--disabled-bg-color);\n",
       "    fill: var(--disabled-fill-color);\n",
       "    box-shadow: none;\n",
       "  }\n",
       "\n",
       "  .colab-df-spinner {\n",
       "    border: 2px solid var(--fill-color);\n",
       "    border-color: transparent;\n",
       "    border-bottom-color: var(--fill-color);\n",
       "    animation:\n",
       "      spin 1s steps(1) infinite;\n",
       "  }\n",
       "\n",
       "  @keyframes spin {\n",
       "    0% {\n",
       "      border-color: transparent;\n",
       "      border-bottom-color: var(--fill-color);\n",
       "      border-left-color: var(--fill-color);\n",
       "    }\n",
       "    20% {\n",
       "      border-color: transparent;\n",
       "      border-left-color: var(--fill-color);\n",
       "      border-top-color: var(--fill-color);\n",
       "    }\n",
       "    30% {\n",
       "      border-color: transparent;\n",
       "      border-left-color: var(--fill-color);\n",
       "      border-top-color: var(--fill-color);\n",
       "      border-right-color: var(--fill-color);\n",
       "    }\n",
       "    40% {\n",
       "      border-color: transparent;\n",
       "      border-right-color: var(--fill-color);\n",
       "      border-top-color: var(--fill-color);\n",
       "    }\n",
       "    60% {\n",
       "      border-color: transparent;\n",
       "      border-right-color: var(--fill-color);\n",
       "    }\n",
       "    80% {\n",
       "      border-color: transparent;\n",
       "      border-right-color: var(--fill-color);\n",
       "      border-bottom-color: var(--fill-color);\n",
       "    }\n",
       "    90% {\n",
       "      border-color: transparent;\n",
       "      border-bottom-color: var(--fill-color);\n",
       "    }\n",
       "  }\n",
       "</style>\n",
       "\n",
       "  <script>\n",
       "    async function quickchart(key) {\n",
       "      const quickchartButtonEl =\n",
       "        document.querySelector('#' + key + ' button');\n",
       "      quickchartButtonEl.disabled = true;  // To prevent multiple clicks.\n",
       "      quickchartButtonEl.classList.add('colab-df-spinner');\n",
       "      try {\n",
       "        const charts = await google.colab.kernel.invokeFunction(\n",
       "            'suggestCharts', [key], {});\n",
       "      } catch (error) {\n",
       "        console.error('Error during call to suggestCharts:', error);\n",
       "      }\n",
       "      quickchartButtonEl.classList.remove('colab-df-spinner');\n",
       "      quickchartButtonEl.classList.add('colab-df-quickchart-complete');\n",
       "    }\n",
       "    (() => {\n",
       "      let quickchartButtonEl =\n",
       "        document.querySelector('#df-c156ba35-fd81-4faf-8b12-64a9eb90c5bb button');\n",
       "      quickchartButtonEl.style.display =\n",
       "        google.colab.kernel.accessAllowed ? 'block' : 'none';\n",
       "    })();\n",
       "  </script>\n",
       "</div>\n",
       "\n",
       "    </div>\n",
       "  </div>\n"
      ],
      "text/plain": [
       "       X1 transaction date  X2 house age  \\\n",
       "count           414.000000    414.000000   \n",
       "mean           2013.148971     17.712560   \n",
       "std               0.281967     11.392485   \n",
       "min            2012.667000      0.000000   \n",
       "25%            2012.917000      9.025000   \n",
       "50%            2013.167000     16.100000   \n",
       "75%            2013.417000     28.150000   \n",
       "max            2013.583000     43.800000   \n",
       "\n",
       "       X3 distance to the nearest MRT station  \\\n",
       "count                              414.000000   \n",
       "mean                              1083.885689   \n",
       "std                               1262.109595   \n",
       "min                                 23.382840   \n",
       "25%                                289.324800   \n",
       "50%                                492.231300   \n",
       "75%                               1454.279000   \n",
       "max                               6488.021000   \n",
       "\n",
       "       X4 number of convenience stores  X5 latitude  X6 longitude  \\\n",
       "count                       414.000000   414.000000    414.000000   \n",
       "mean                          4.094203    24.969030    121.533361   \n",
       "std                           2.945562     0.012410      0.015347   \n",
       "min                           0.000000    24.932070    121.473530   \n",
       "25%                           1.000000    24.963000    121.528085   \n",
       "50%                           4.000000    24.971100    121.538630   \n",
       "75%                           6.000000    24.977455    121.543305   \n",
       "max                          10.000000    25.014590    121.566270   \n",
       "\n",
       "       Y house price of unit area  \n",
       "count                  414.000000  \n",
       "mean                    37.980193  \n",
       "std                     13.606488  \n",
       "min                      7.600000  \n",
       "25%                     27.700000  \n",
       "50%                     38.450000  \n",
       "75%                     46.600000  \n",
       "max                    117.500000  "
      ]
     },
     "execution_count": 14,
     "metadata": {},
     "output_type": "execute_result"
    }
   ],
   "source": [
    "df.describe()"
   ]
  },
  {
   "cell_type": "code",
   "execution_count": null,
   "id": "537916d7",
   "metadata": {
    "colab": {
     "base_uri": "https://localhost:8080/",
     "height": 954
    },
    "executionInfo": {
     "elapsed": 978,
     "status": "ok",
     "timestamp": 1739027055309,
     "user": {
      "displayName": "Aashish Shrestha",
      "userId": "11224514173543813789"
     },
     "user_tz": -345
    },
    "id": "537916d7",
    "outputId": "082eb64f-3fad-4197-9b24-4225fe9448f5"
   },
   "outputs": [
    {
     "data": {
      "image/png": "[encoded data removed]",
      "text/plain": [
       "<Figure size 1200x800 with 2 Axes>"
      ]
     },
     "metadata": {},
     "output_type": "display_data"
    }
   ],
   "source": [
    "import seaborn as sns\n",
    "import matplotlib.pyplot as plt\n",
    "\n",
    "# Calculate the correlation matrix\n",
    "correlation_matrix = df.corr()\n",
    "\n",
    "# Set up the matplotlib figure\n",
    "plt.figure(figsize=(12, 8))\n",
    "\n",
    "# Create a heatmap to visualize the correlation matrix\n",
    "sns.heatmap(correlation_matrix, annot=True, cmap='coolwarm', fmt=\".2f\", linewidths=0.5)\n",
    "\n",
    "# Display the heatmap\n",
    "plt.title(\"Correlation Matrix Heatmap\")\n",
    "plt.show()\n"
   ]
  },
  {
   "cell_type": "markdown",
   "id": "b8bebd7a",
   "metadata": {
    "id": "b8bebd7a"
   },
   "source": [
    "# Outliers Detection"
   ]
  },
  {
   "cell_type": "code",
   "execution_count": null,
   "id": "a698f6c6",
   "metadata": {
    "colab": {
     "base_uri": "https://localhost:8080/",
     "height": 459
    },
    "executionInfo": {
     "elapsed": 779,
     "status": "ok",
     "timestamp": 1739027063860,
     "user": {
      "displayName": "Aashish Shrestha",
      "userId": "11224514173543813789"
     },
     "user_tz": -345
    },
    "id": "a698f6c6",
    "outputId": "36ad5ae4-60c4-4915-eab4-a95687facbab"
   },
   "outputs": [
    {
     "data": {
      "image/png": "[encoded data removed]",
      "text/plain": [
       "<Figure size 1500x1000 with 7 Axes>"
      ]
     },
     "metadata": {},
     "output_type": "display_data"
    }
   ],
   "source": [
    "import matplotlib.pyplot as plt\n",
    "import seaborn as sns\n",
    "\n",
    "# Select numerical columns for outlier detection\n",
    "numerical_columns = df.select_dtypes(include=['float64', 'int64']).columns\n",
    "\n",
    "# Plot box plots for each numerical column to visualize outliers\n",
    "plt.figure(figsize=(15, 10))\n",
    "for i, col in enumerate(numerical_columns):\n",
    "    plt.subplot(4, 4, i+1)  # Adjust the layout according to the number of columns\n",
    "    sns.boxplot(data=df, x=col)\n",
    "    plt.title(f'Boxplot of {col}')\n",
    "plt.tight_layout()\n",
    "plt.show()\n"
   ]
  },
  {
   "cell_type": "markdown",
   "id": "d713d08a",
   "metadata": {
    "id": "d713d08a"
   },
   "source": [
    "## Fixing outliers"
   ]
  },
  {
   "cell_type": "code",
   "execution_count": null,
   "id": "550c77fe",
   "metadata": {
    "colab": {
     "base_uri": "https://localhost:8080/"
    },
    "executionInfo": {
     "elapsed": 28,
     "status": "ok",
     "timestamp": 1739027067986,
     "user": {
      "displayName": "Aashish Shrestha",
      "userId": "11224514173543813789"
     },
     "user_tz": -345
    },
    "id": "550c77fe",
    "outputId": "0f99bec7-67b5-4c1a-e9af-2645adc3d755"
   },
   "outputs": [
    {
     "name": "stdout",
     "output_type": "stream",
     "text": [
      "Missing values after outlier handling: \n",
      "X1 transaction date                       0\n",
      "X2 house age                              0\n",
      "X3 distance to the nearest MRT station    0\n",
      "X4 number of convenience stores           0\n",
      "X5 latitude                               0\n",
      "X6 longitude                              0\n",
      "Y house price of unit area                0\n",
      "dtype: int64\n"
     ]
    }
   ],
   "source": [
    "# Calculate IQR for each numerical column\n",
    "Q1 = df.quantile(0.25)\n",
    "Q3 = df.quantile(0.75)\n",
    "IQR = Q3 - Q1\n",
    "\n",
    "# Define the upper and lower bounds to identify outliers\n",
    "lower_bound = Q1 - 1.5 * IQR\n",
    "upper_bound = Q3 + 1.5 * IQR\n",
    "\n",
    "# Detect and fix outliers by capping them to the lower and upper bounds\n",
    "for col in df.select_dtypes(include=['float64', 'int64']).columns:\n",
    "    df[col] = df[col].clip(lower=lower_bound[col], upper=upper_bound[col])\n",
    "\n",
    "# Check missing values after outlier handling\n",
    "print(f\"Missing values after outlier handling: \\n{df.isnull().sum()}\")\n"
   ]
  },
  {
   "cell_type": "markdown",
   "id": "7d71f41d",
   "metadata": {
    "id": "7d71f41d"
   },
   "source": [
    "# Model Building"
   ]
  },
  {
   "cell_type": "code",
   "execution_count": null,
   "id": "5a5704ac",
   "metadata": {
    "id": "5a5704ac"
   },
   "outputs": [],
   "source": [
    "import numpy as np\n",
    "import pandas as pd\n",
    "import matplotlib.pyplot as plt\n",
    "from sklearn.model_selection import train_test_split\n",
    "from sklearn.preprocessing import StandardScaler"
   ]
  },
  {
   "cell_type": "markdown",
   "id": "f046f1b6",
   "metadata": {
    "id": "f046f1b6"
   },
   "source": [
    "## Splitting the data for model into train and split"
   ]
  },
  {
   "cell_type": "code",
   "execution_count": null,
   "id": "bbc6a1a8",
   "metadata": {
    "id": "bbc6a1a8"
   },
   "outputs": [],
   "source": [
    "# Splitting dataset\n",
    "\n",
    "X = df.drop(columns=[\"X3 distance to the nearest MRT station\"])  # Features\n",
    "y = df[\"X3 distance to the nearest MRT station\"]\n",
    "X_train, X_test, y_train, y_test = train_test_split(X, y, test_size=0.2, random_state=42)"
   ]
  },
  {
   "cell_type": "code",
   "execution_count": null,
   "id": "42befa29",
   "metadata": {
    "id": "42befa29"
   },
   "outputs": [],
   "source": [
    "# Normalize features\n",
    "scaler = StandardScaler()\n",
    "X_train_scaled = scaler.fit_transform(X_train)\n",
    "X_test_scaled = scaler.transform(X_test)"
   ]
  },
  {
   "cell_type": "code",
   "execution_count": null,
   "id": "7685b711",
   "metadata": {
    "id": "7685b711"
   },
   "outputs": [],
   "source": [
    "# Add bias term\n",
    "X_train_bias = np.c_[np.ones((X_train_scaled.shape[0], 1)), X_train_scaled]\n",
    "X_test_bias = np.c_[np.ones((X_test_scaled.shape[0], 1)), X_test_scaled]\n",
    "\n",
    "def cost_function(X, Y, W):\n",
    "    m = len(Y)\n",
    "    Y_pred = np.dot(X, W)\n",
    "    cost = (1 / (2 * m)) * np.sum((Y_pred - Y) ** 2)\n",
    "    return cost\n",
    "\n",
    "def gradient_descent(X, Y, W, alpha, iterations):\n",
    "    m = len(Y)\n",
    "    cost_history = []\n",
    "    for i in range(iterations):\n",
    "        Y_pred = np.dot(X, W)\n",
    "        loss = Y_pred - Y\n",
    "        gradient = (1 / m) * np.dot(X.T, loss)\n",
    "        W -= alpha * gradient\n",
    "        cost = cost_function(X, Y, W)\n",
    "        cost_history.append(cost)\n",
    "        if i % 100 == 0:\n",
    "            print(f\"Iteration {i}: Cost = {cost:.4f}\")\n",
    "    return W, cost_history\n",
    "\n",
    "def rmse(Y, Y_pred):\n",
    "    return np.sqrt(mean_squared_error(Y, Y_pred))"
   ]
  },
  {
   "cell_type": "code",
   "execution_count": null,
   "id": "ea5011ba",
   "metadata": {
    "id": "ea5011ba"
   },
   "outputs": [],
   "source": [
    "import numpy as np\n",
    "import matplotlib.pyplot as plt\n",
    "from sklearn.metrics import mean_squared_error, r2_score\n",
    "\n",
    "def main():\n",
    "    W = np.zeros(X_train_bias.shape[1])\n",
    "    alpha = 0.01\n",
    "    iterations = 2000\n",
    "    W_optimal, cost_history = gradient_descent(X_train_bias, y_train.values, W, alpha, iterations)\n",
    "\n",
    "    # Plot cost function over iterations\n",
    "    plt.plot(range(iterations), cost_history, label='Cost Reduction Over Iterations', color='blue')\n",
    "    plt.xlabel('Iterations')\n",
    "    plt.ylabel('Cost (MSE)')\n",
    "    plt.title('Gradient Descent Convergence')\n",
    "    plt.legend()\n",
    "    plt.show()\n",
    "\n",
    "    # Predictions\n",
    "    Y_pred_train = np.dot(X_train_bias, W_optimal)\n",
    "    Y_pred_test = np.dot(X_test_bias, W_optimal)\n",
    "\n",
    "    # Training metrics\n",
    "    train_mse = mean_squared_error(y_train, Y_pred_train)\n",
    "    train_rmse = np.sqrt(train_mse)  # RMSE\n",
    "    train_r2 = r2_score(y_train, Y_pred_train)\n",
    "\n",
    "    # Test metrics\n",
    "    test_mse = mean_squared_error(y_test, Y_pred_test)\n",
    "    test_rmse = np.sqrt(test_mse)  # RMSE\n",
    "    test_r2 = r2_score(y_test, Y_pred_test)\n",
    "\n",
    "    # Print results\n",
    "    print(\"Final Weights:\", W_optimal)\n",
    "    print(\"MSE on Training Set:\", train_mse)\n",
    "    print(\"RMSE on Training Set:\", train_rmse)\n",
    "    print(\"R-Squared on Training Set:\", train_r2)\n",
    "    print()\n",
    "    print(\"MSE on Test Set:\", test_mse)\n",
    "    print(\"RMSE on Test Set:\", test_rmse)\n",
    "    print(\"R-Squared on Test Set:\", test_r2)\n",
    "    # Check for infinite values\n",
    "    print(np.any(np.isinf(y_train)))\n",
    "    print(np.any(np.isinf(Y_pred_train)))\n",
    "\n",
    "\n"
   ]
  },
  {
   "cell_type": "code",
   "execution_count": null,
   "id": "3cb22bf2",
   "metadata": {
    "id": "3cb22bf2"
   },
   "outputs": [],
   "source": []
  },
  {
   "cell_type": "code",
   "execution_count": null,
   "id": "f4f90736",
   "metadata": {
    "colab": {
     "base_uri": "https://localhost:8080/",
     "height": 1000
    },
    "executionInfo": {
     "elapsed": 518,
     "status": "ok",
     "timestamp": 1739027218089,
     "user": {
      "displayName": "Aashish Shrestha",
      "userId": "11224514173543813789"
     },
     "user_tz": -345
    },
    "id": "f4f90736",
    "outputId": "dcdd0fcb-14e8-4295-fa87-73cf4568c865",
    "scrolled": false
   },
   "outputs": [
    {
     "name": "stdout",
     "output_type": "stream",
     "text": [
      "Iteration 0: Cost = 900408.9135\n",
      "Iteration 100: Cost = 181117.2733\n",
      "Iteration 200: Cost = 122323.4222\n",
      "Iteration 300: Cost = 114133.5233\n",
      "Iteration 400: Cost = 112840.6260\n",
      "Iteration 500: Cost = 112593.7223\n",
      "Iteration 600: Cost = 112530.3066\n",
      "Iteration 700: Cost = 112508.0833\n",
      "Iteration 800: Cost = 112498.4032\n",
      "Iteration 900: Cost = 112493.6565\n",
      "Iteration 1000: Cost = 112491.1857\n",
      "Iteration 1100: Cost = 112489.8599\n",
      "Iteration 1200: Cost = 112489.1372\n",
      "Iteration 1300: Cost = 112488.7399\n",
      "Iteration 1400: Cost = 112488.5204\n",
      "Iteration 1500: Cost = 112488.3990\n",
      "Iteration 1600: Cost = 112488.3317\n",
      "Iteration 1700: Cost = 112488.2943\n",
      "Iteration 1800: Cost = 112488.2736\n",
      "Iteration 1900: Cost = 112488.2621\n"
     ]
    },
    {
     "data": {
      "image/png": "[encoded data removed]",
      "text/plain": [
       "<Figure size 640x480 with 1 Axes>"
      ]
     },
     "metadata": {},
     "output_type": "display_data"
    },
    {
     "name": "stdout",
     "output_type": "stream",
     "text": [
      "Final Weights: [ 963.80126621   73.64894097  -68.71904236 -196.90992343 -128.55647848\n",
      " -420.45139646 -298.09674381]\n",
      "MSE on Training Set: 224976.5115153199\n",
      "RMSE on Training Set: 474.3168893422623\n",
      "R-Squared on Training Set: 0.7562611063963142\n",
      "\n",
      "MSE on Test Set: 192280.58116307785\n",
      "RMSE on Test Set: 438.4980971031435\n",
      "R-Squared on Test Set: 0.8054040971068569\n",
      "False\n",
      "False\n"
     ]
    }
   ],
   "source": [
    "if __name__ == \"__main__\":\n",
    "    main()\n"
   ]
  },
  {
   "cell_type": "markdown",
   "id": "8161d339",
   "metadata": {
    "id": "8161d339"
   },
   "source": [
    "## Models using sklearn"
   ]
  },
  {
   "cell_type": "markdown",
   "id": "3816f07d",
   "metadata": {
    "id": "3816f07d"
   },
   "source": [
    "## Linear regression Model"
   ]
  },
  {
   "cell_type": "code",
   "execution_count": null,
   "id": "7511f344",
   "metadata": {
    "colab": {
     "base_uri": "https://localhost:8080/"
    },
    "executionInfo": {
     "elapsed": 27,
     "status": "ok",
     "timestamp": 1739027309418,
     "user": {
      "displayName": "Aashish Shrestha",
      "userId": "11224514173543813789"
     },
     "user_tz": -345
    },
    "id": "7511f344",
    "outputId": "0f82286d-07bf-47a6-fd2d-9381ebc4c062"
   },
   "outputs": [
    {
     "name": "stdout",
     "output_type": "stream",
     "text": [
      "Linear Regression Results:\n",
      "MSE on Training Set: 224976.49548667728\n",
      "RMSE on Training Set: 474.3168724457072\n",
      "R-Squared on Training Set: 0.7562611237616986\n",
      "\n",
      "MSE on Test Set: 192275.46493391407\n",
      "RMSE on Test Set: 438.49226325434074\n",
      "R-Squared on Test Set: 0.805409274942432\n"
     ]
    }
   ],
   "source": [
    "from sklearn.linear_model import LinearRegression\n",
    "from sklearn.metrics import mean_squared_error, r2_score\n",
    "\n",
    "# Initialize and train the Linear Regression model\n",
    "lr_model = LinearRegression()\n",
    "lr_model.fit(X_train_scaled, y_train)\n",
    "\n",
    "# Predict on training and test sets\n",
    "y_pred_train_lr = lr_model.predict(X_train_scaled)\n",
    "y_pred_test_lr = lr_model.predict(X_test_scaled)\n",
    "\n",
    "# Calculate metrics for Linear Regression\n",
    "train_mse_lr = mean_squared_error(y_train, y_pred_train_lr)\n",
    "train_rmse_lr = np.sqrt(train_mse_lr)\n",
    "train_r2_lr = r2_score(y_train, y_pred_train_lr)\n",
    "\n",
    "test_mse_lr = mean_squared_error(y_test, y_pred_test_lr)\n",
    "test_rmse_lr = np.sqrt(test_mse_lr)\n",
    "test_r2_lr = r2_score(y_test, y_pred_test_lr)\n",
    "\n",
    "# Print results for Linear Regression\n",
    "print(\"Linear Regression Results:\")\n",
    "print(f\"MSE on Training Set: {train_mse_lr}\")\n",
    "print(f\"RMSE on Training Set: {train_rmse_lr}\")\n",
    "print(f\"R-Squared on Training Set: {train_r2_lr}\")\n",
    "print()\n",
    "print(f\"MSE on Test Set: {test_mse_lr}\")\n",
    "print(f\"RMSE on Test Set: {test_rmse_lr}\")\n",
    "print(f\"R-Squared on Test Set: {test_r2_lr}\")\n"
   ]
  },
  {
   "cell_type": "code",
   "execution_count": null,
   "id": "2ae89847",
   "metadata": {
    "colab": {
     "base_uri": "https://localhost:8080/"
    },
    "executionInfo": {
     "elapsed": 486,
     "status": "ok",
     "timestamp": 1739027320657,
     "user": {
      "displayName": "Aashish Shrestha",
      "userId": "11224514173543813789"
     },
     "user_tz": -345
    },
    "id": "2ae89847",
    "outputId": "595eb98e-5875-479a-8f99-bcfc9d370ffd"
   },
   "outputs": [
    {
     "name": "stdout",
     "output_type": "stream",
     "text": [
      "Random Forest Results:\n",
      "MSE on Training Set: 1415.9072118747647\n",
      "RMSE on Training Set: 37.62854251595144\n",
      "R-Squared on Training Set: 0.9984660102739465\n",
      "\n",
      "MSE on Test Set: 8002.62028957485\n",
      "RMSE on Test Set: 89.4573657647868\n",
      "R-Squared on Test Set: 0.9919010171940346\n"
     ]
    }
   ],
   "source": [
    "from sklearn.ensemble import RandomForestRegressor\n",
    "\n",
    "# Initialize and train the Random Forest model\n",
    "rf_model = RandomForestRegressor(n_estimators=100, random_state=42)\n",
    "rf_model.fit(X_train_scaled, y_train)\n",
    "\n",
    "# Predict on training and test sets\n",
    "y_pred_train_rf = rf_model.predict(X_train_scaled)\n",
    "y_pred_test_rf = rf_model.predict(X_test_scaled)\n",
    "\n",
    "# Calculate metrics for Random Forest\n",
    "train_mse_rf = mean_squared_error(y_train, y_pred_train_rf)\n",
    "train_rmse_rf = np.sqrt(train_mse_rf)\n",
    "train_r2_rf = r2_score(y_train, y_pred_train_rf)\n",
    "\n",
    "test_mse_rf = mean_squared_error(y_test, y_pred_test_rf)\n",
    "test_rmse_rf = np.sqrt(test_mse_rf)\n",
    "test_r2_rf = r2_score(y_test, y_pred_test_rf)\n",
    "\n",
    "# Print results for Random Forest\n",
    "print(\"Random Forest Results:\")\n",
    "print(f\"MSE on Training Set: {train_mse_rf}\")\n",
    "print(f\"RMSE on Training Set: {train_rmse_rf}\")\n",
    "print(f\"R-Squared on Training Set: {train_r2_rf}\")\n",
    "print()\n",
    "print(f\"MSE on Test Set: {test_mse_rf}\")\n",
    "print(f\"RMSE on Test Set: {test_rmse_rf}\")\n",
    "print(f\"R-Squared on Test Set: {test_r2_rf}\")\n"
   ]
  },
  {
   "cell_type": "markdown",
   "id": "924fcd66",
   "metadata": {
    "id": "924fcd66"
   },
   "source": [
    "# Hyper-parameter Optimization with Cross-Validation"
   ]
  },
  {
   "cell_type": "markdown",
   "id": "a74de3a8",
   "metadata": {
    "id": "a74de3a8"
   },
   "source": [
    "## Linear Regression (Ridge)"
   ]
  },
  {
   "cell_type": "code",
   "execution_count": null,
   "id": "06aeebb0",
   "metadata": {
    "colab": {
     "base_uri": "https://localhost:8080/"
    },
    "executionInfo": {
     "elapsed": 4029,
     "status": "ok",
     "timestamp": 1739027392042,
     "user": {
      "displayName": "Aashish Shrestha",
      "userId": "11224514173543813789"
     },
     "user_tz": -345
    },
    "id": "06aeebb0",
    "outputId": "e56a9196-f3c2-4f50-f10f-f5fee3ccb9f6"
   },
   "outputs": [
    {
     "name": "stdout",
     "output_type": "stream",
     "text": [
      "Best hyperparameters for Ridge Regression: {'alpha': 10}\n"
     ]
    }
   ],
   "source": [
    "from sklearn.linear_model import Ridge\n",
    "from sklearn.model_selection import GridSearchCV\n",
    "\n",
    "# Hyperparameters for Ridge Regression\n",
    "ridge_param_grid = {\n",
    "    'alpha': [0.1, 1, 10, 100, 1000]  # Range of values for regularization strength\n",
    "}\n",
    "\n",
    "# Initialize Ridge model\n",
    "ridge_model = Ridge()\n",
    "\n",
    "# Apply GridSearchCV\n",
    "ridge_grid_search = GridSearchCV(estimator=ridge_model, param_grid=ridge_param_grid, cv=5, scoring='neg_mean_squared_error', n_jobs=-1)\n",
    "ridge_grid_search.fit(X_train_scaled, y_train)\n",
    "\n",
    "# Get the best hyperparameters\n",
    "print(f\"Best hyperparameters for Ridge Regression: {ridge_grid_search.best_params_}\")\n"
   ]
  },
  {
   "cell_type": "markdown",
   "id": "49736680",
   "metadata": {
    "id": "49736680"
   },
   "source": [
    "## Random Forest"
   ]
  },
  {
   "cell_type": "code",
   "execution_count": null,
   "id": "eeafbfa1",
   "metadata": {
    "colab": {
     "base_uri": "https://localhost:8080/"
    },
    "executionInfo": {
     "elapsed": 376562,
     "status": "ok",
     "timestamp": 1739028152957,
     "user": {
      "displayName": "Aashish Shrestha",
      "userId": "11224514173543813789"
     },
     "user_tz": -345
    },
    "id": "eeafbfa1",
    "outputId": "609f71c1-1b33-4f3a-e238-307cffe64ff2"
   },
   "outputs": [
    {
     "name": "stderr",
     "output_type": "stream",
     "text": [
      "/usr/local/lib/python3.11/dist-packages/sklearn/model_selection/_validation.py:528: FitFailedWarning: \n",
      "1080 fits failed out of a total of 3240.\n",
      "The score on these train-test partitions for these parameters will be set to nan.\n",
      "If these failures are not expected, you can try to debug them by setting error_score='raise'.\n",
      "\n",
      "Below are more details about the failures:\n",
      "--------------------------------------------------------------------------------\n",
      "827 fits failed with the following error:\n",
      "Traceback (most recent call last):\n",
      "  File \"/usr/local/lib/python3.11/dist-packages/sklearn/model_selection/_validation.py\", line 866, in _fit_and_score\n",
      "    estimator.fit(X_train, y_train, **fit_params)\n",
      "  File \"/usr/local/lib/python3.11/dist-packages/sklearn/base.py\", line 1382, in wrapper\n",
      "    estimator._validate_params()\n",
      "  File \"/usr/local/lib/python3.11/dist-packages/sklearn/base.py\", line 436, in _validate_params\n",
      "    validate_parameter_constraints(\n",
      "  File \"/usr/local/lib/python3.11/dist-packages/sklearn/utils/_param_validation.py\", line 98, in validate_parameter_constraints\n",
      "    raise InvalidParameterError(\n",
      "sklearn.utils._param_validation.InvalidParameterError: The 'max_features' parameter of RandomForestRegressor must be an int in the range [1, inf), a float in the range (0.0, 1.0], a str among {'log2', 'sqrt'} or None. Got 'auto' instead.\n",
      "\n",
      "--------------------------------------------------------------------------------\n",
      "253 fits failed with the following error:\n",
      "Traceback (most recent call last):\n",
      "  File \"/usr/local/lib/python3.11/dist-packages/sklearn/model_selection/_validation.py\", line 866, in _fit_and_score\n",
      "    estimator.fit(X_train, y_train, **fit_params)\n",
      "  File \"/usr/local/lib/python3.11/dist-packages/sklearn/base.py\", line 1382, in wrapper\n",
      "    estimator._validate_params()\n",
      "  File \"/usr/local/lib/python3.11/dist-packages/sklearn/base.py\", line 436, in _validate_params\n",
      "    validate_parameter_constraints(\n",
      "  File \"/usr/local/lib/python3.11/dist-packages/sklearn/utils/_param_validation.py\", line 98, in validate_parameter_constraints\n",
      "    raise InvalidParameterError(\n",
      "sklearn.utils._param_validation.InvalidParameterError: The 'max_features' parameter of RandomForestRegressor must be an int in the range [1, inf), a float in the range (0.0, 1.0], a str among {'sqrt', 'log2'} or None. Got 'auto' instead.\n",
      "\n",
      "  warnings.warn(some_fits_failed_message, FitFailedWarning)\n",
      "/usr/local/lib/python3.11/dist-packages/sklearn/model_selection/_search.py:1108: UserWarning: One or more of the test scores are non-finite: [            nan             nan             nan             nan\n",
      "             nan             nan             nan             nan\n",
      "             nan             nan             nan             nan\n",
      "             nan             nan             nan             nan\n",
      "             nan             nan             nan             nan\n",
      "             nan             nan             nan             nan\n",
      "             nan             nan             nan -36376.79322104\n",
      " -35642.64736235 -32949.46163243 -40967.37316092 -37691.7654447\n",
      " -36220.2066579  -48550.49333053 -48489.55936919 -46872.02808564\n",
      " -48490.207911   -45754.55501582 -42630.50050666 -47658.13870823\n",
      " -48677.76209449 -46884.94227039 -55864.86330429 -54438.44319107\n",
      " -52321.38452685 -68850.52401418 -68373.51961444 -66540.76610492\n",
      " -68850.52401418 -68373.51961444 -66540.76610492 -73347.62143715\n",
      " -70783.83156676 -68521.97488914 -36376.79322104 -35642.64736235\n",
      " -32949.46163243 -40967.37316092 -37691.7654447  -36220.2066579\n",
      " -48550.49333053 -48489.55936919 -46872.02808564 -48490.207911\n",
      " -45754.55501582 -42630.50050666 -47658.13870823 -48677.76209449\n",
      " -46884.94227039 -55864.86330429 -54438.44319107 -52321.38452685\n",
      " -68850.52401418 -68373.51961444 -66540.76610492 -68850.52401418\n",
      " -68373.51961444 -66540.76610492 -73347.62143715 -70783.83156676\n",
      " -68521.97488914             nan             nan             nan\n",
      "             nan             nan             nan             nan\n",
      "             nan             nan             nan             nan\n",
      "             nan             nan             nan             nan\n",
      "             nan             nan             nan             nan\n",
      "             nan             nan             nan             nan\n",
      "             nan             nan             nan             nan\n",
      " -35285.44715606 -34043.67433302 -32159.97756171 -39585.64574222\n",
      " -38035.54099211 -36222.37715785 -48559.91339858 -48361.95203801\n",
      " -47028.79137542 -48412.66186997 -45858.3625653  -42693.56688829\n",
      " -48986.86285955 -49807.51022176 -48033.01918755 -56208.51103526\n",
      " -55125.80781835 -52705.50530519 -69171.87203344 -68694.50850304\n",
      " -66783.88322936 -69171.87203344 -68694.50850304 -66783.88322936\n",
      " -73097.14411899 -70379.45429951 -68273.34289322 -35285.44715606\n",
      " -34043.67433302 -32159.97756171 -39585.64574222 -38035.54099211\n",
      " -36222.37715785 -48559.91339858 -48361.95203801 -47028.79137542\n",
      " -48412.66186997 -45858.3625653  -42693.56688829 -48986.86285955\n",
      " -49807.51022176 -48033.01918755 -56208.51103526 -55125.80781835\n",
      " -52705.50530519 -69171.87203344 -68694.50850304 -66783.88322936\n",
      " -69171.87203344 -68694.50850304 -66783.88322936 -73097.14411899\n",
      " -70379.45429951 -68273.34289322             nan             nan\n",
      "             nan             nan             nan             nan\n",
      "             nan             nan             nan             nan\n",
      "             nan             nan             nan             nan\n",
      "             nan             nan             nan             nan\n",
      "             nan             nan             nan             nan\n",
      "             nan             nan             nan             nan\n",
      "             nan -36378.6724788  -35644.04355946 -32935.51238534\n",
      " -40967.37316092 -37691.7654447  -36225.01474481 -48550.49333053\n",
      " -48489.55936919 -46872.02808564 -48490.207911   -45754.55501582\n",
      " -42630.50050666 -47658.13870823 -48677.76209449 -46884.94227039\n",
      " -55864.86330429 -54438.44319107 -52321.38452685 -68850.52401418\n",
      " -68373.51961444 -66540.76610492 -68850.52401418 -68373.51961444\n",
      " -66540.76610492 -73347.62143715 -70783.83156676 -68521.97488914\n",
      " -36378.6724788  -35644.04355946 -32935.51238534 -40967.37316092\n",
      " -37691.7654447  -36225.01474481 -48550.49333053 -48489.55936919\n",
      " -46872.02808564 -48490.207911   -45754.55501582 -42630.50050666\n",
      " -47658.13870823 -48677.76209449 -46884.94227039 -55864.86330429\n",
      " -54438.44319107 -52321.38452685 -68850.52401418 -68373.51961444\n",
      " -66540.76610492 -68850.52401418 -68373.51961444 -66540.76610492\n",
      " -73347.62143715 -70783.83156676 -68521.97488914             nan\n",
      "             nan             nan             nan             nan\n",
      "             nan             nan             nan             nan\n",
      "             nan             nan             nan             nan\n",
      "             nan             nan             nan             nan\n",
      "             nan             nan             nan             nan\n",
      "             nan             nan             nan             nan\n",
      "             nan             nan -36376.79322104 -35642.64736235\n",
      " -32949.46163243 -40967.37316092 -37691.7654447  -36220.2066579\n",
      " -48550.49333053 -48489.55936919 -46872.02808564 -48490.207911\n",
      " -45754.55501582 -42630.50050666 -47658.13870823 -48677.76209449\n",
      " -46884.94227039 -55864.86330429 -54438.44319107 -52321.38452685\n",
      " -68850.52401418 -68373.51961444 -66540.76610492 -68850.52401418\n",
      " -68373.51961444 -66540.76610492 -73347.62143715 -70783.83156676\n",
      " -68521.97488914 -36376.79322104 -35642.64736235 -32949.46163243\n",
      " -40967.37316092 -37691.7654447  -36220.2066579  -48550.49333053\n",
      " -48489.55936919 -46872.02808564 -48490.207911   -45754.55501582\n",
      " -42630.50050666 -47658.13870823 -48677.76209449 -46884.94227039\n",
      " -55864.86330429 -54438.44319107 -52321.38452685 -68850.52401418\n",
      " -68373.51961444 -66540.76610492 -68850.52401418 -68373.51961444\n",
      " -66540.76610492 -73347.62143715 -70783.83156676 -68521.97488914\n",
      "             nan             nan             nan             nan\n",
      "             nan             nan             nan             nan\n",
      "             nan             nan             nan             nan\n",
      "             nan             nan             nan             nan\n",
      "             nan             nan             nan             nan\n",
      "             nan             nan             nan             nan\n",
      "             nan             nan             nan -20156.96886713\n",
      " -19469.75654292 -17887.62733615 -24694.51538957 -23138.96939882\n",
      " -21631.7387922  -32492.50505811 -32428.43098962 -29215.43229937\n",
      " -28356.88640397 -27014.77722889 -25465.66363992 -31742.12021676\n",
      " -30951.82515608 -27485.17119475 -37949.90532041 -36522.03199602\n",
      " -33673.46764037 -48889.76429404 -46920.39423064 -46040.78471826\n",
      " -48889.76429404 -46920.39423064 -46040.78471826 -50491.79291008\n",
      " -48745.80897839 -46907.90799467 -20156.96886713 -19469.75654292\n",
      " -17887.62733615 -24694.51538957 -23138.96939882 -21631.7387922\n",
      " -32492.50505811 -32428.43098962 -29215.43229937 -28356.88640397\n",
      " -27014.77722889 -25465.66363992 -31742.12021676 -30951.82515608\n",
      " -27485.17119475 -37949.90532041 -36522.03199602 -33673.46764037\n",
      " -48889.76429404 -46920.39423064 -46040.78471826 -48889.76429404\n",
      " -46920.39423064 -46040.78471826 -50491.79291008 -48745.80897839\n",
      " -46907.90799467             nan             nan             nan\n",
      "             nan             nan             nan             nan\n",
      "             nan             nan             nan             nan\n",
      "             nan             nan             nan             nan\n",
      "             nan             nan             nan             nan\n",
      "             nan             nan             nan             nan\n",
      "             nan             nan             nan             nan\n",
      " -21956.59735876 -20301.17409149 -19315.82871387 -24932.93022722\n",
      " -24780.43173717 -23063.72768859 -32001.34015873 -31654.78098963\n",
      " -29137.21444597 -29370.09889106 -27705.62274422 -25701.6914458\n",
      " -32800.08205405 -30550.5709188  -27656.69895733 -37326.2383988\n",
      " -36398.40299914 -33546.71507555 -48808.05119744 -46989.95531061\n",
      " -46002.1692327  -48808.05119744 -46989.95531061 -46002.1692327\n",
      " -50246.06619766 -48419.26523179 -47050.78851011 -21956.59735876\n",
      " -20301.17409149 -19315.82871387 -24932.93022722 -24780.43173717\n",
      " -23063.72768859 -32001.34015873 -31654.78098963 -29137.21444597\n",
      " -29370.09889106 -27705.62274422 -25701.6914458  -32800.08205405\n",
      " -30550.5709188  -27656.69895733 -37326.2383988  -36398.40299914\n",
      " -33546.71507555 -48808.05119744 -46989.95531061 -46002.1692327\n",
      " -48808.05119744 -46989.95531061 -46002.1692327  -50246.06619766\n",
      " -48419.26523179 -47050.78851011             nan             nan\n",
      "             nan             nan             nan             nan\n",
      "             nan             nan             nan             nan\n",
      "             nan             nan             nan             nan\n",
      "             nan             nan             nan             nan\n",
      "             nan             nan             nan             nan\n",
      "             nan             nan             nan             nan\n",
      "             nan -19994.83495059 -19436.13882723 -17855.32508612\n",
      " -24745.55312172 -23161.33480514 -21645.5994727  -32492.50505811\n",
      " -32428.43098962 -29215.43229937 -28356.88640397 -27014.77722889\n",
      " -25465.66363992 -31742.12021676 -30951.82515608 -27485.17119475\n",
      " -37949.90532041 -36522.03199602 -33673.46764037 -48889.76429404\n",
      " -46920.39423064 -46040.78471826 -48889.76429404 -46920.39423064\n",
      " -46040.78471826 -50491.79291008 -48745.80897839 -46907.90799467\n",
      " -19994.83495059 -19436.13882723 -17855.32508612 -24745.55312172\n",
      " -23161.33480514 -21645.5994727  -32492.50505811 -32428.43098962\n",
      " -29215.43229937 -28356.88640397 -27014.77722889 -25465.66363992\n",
      " -31742.12021676 -30951.82515608 -27485.17119475 -37949.90532041\n",
      " -36522.03199602 -33673.46764037 -48889.76429404 -46920.39423064\n",
      " -46040.78471826 -48889.76429404 -46920.39423064 -46040.78471826\n",
      " -50491.79291008 -48745.80897839 -46907.90799467             nan\n",
      "             nan             nan             nan             nan\n",
      "             nan             nan             nan             nan\n",
      "             nan             nan             nan             nan\n",
      "             nan             nan             nan             nan\n",
      "             nan             nan             nan             nan\n",
      "             nan             nan             nan             nan\n",
      "             nan             nan -20156.96886713 -19469.75654292\n",
      " -17887.62733615 -24694.51538957 -23138.96939882 -21631.7387922\n",
      " -32492.50505811 -32428.43098962 -29215.43229937 -28356.88640397\n",
      " -27014.77722889 -25465.66363992 -31742.12021676 -30951.82515608\n",
      " -27485.17119475 -37949.90532041 -36522.03199602 -33673.46764037\n",
      " -48889.76429404 -46920.39423064 -46040.78471826 -48889.76429404\n",
      " -46920.39423064 -46040.78471826 -50491.79291008 -48745.80897839\n",
      " -46907.90799467 -20156.96886713 -19469.75654292 -17887.62733615\n",
      " -24694.51538957 -23138.96939882 -21631.7387922  -32492.50505811\n",
      " -32428.43098962 -29215.43229937 -28356.88640397 -27014.77722889\n",
      " -25465.66363992 -31742.12021676 -30951.82515608 -27485.17119475\n",
      " -37949.90532041 -36522.03199602 -33673.46764037 -48889.76429404\n",
      " -46920.39423064 -46040.78471826 -48889.76429404 -46920.39423064\n",
      " -46040.78471826 -50491.79291008 -48745.80897839 -46907.90799467]\n",
      "  warnings.warn(\n"
     ]
    },
    {
     "name": "stdout",
     "output_type": "stream",
     "text": [
      "Best hyperparameters for Random Forest: {'bootstrap': False, 'max_depth': 20, 'max_features': 'sqrt', 'min_samples_leaf': 1, 'min_samples_split': 2, 'n_estimators': 200}\n"
     ]
    }
   ],
   "source": [
    "from sklearn.ensemble import RandomForestRegressor\n",
    "\n",
    "# Hyperparameters for Random Forest\n",
    "rf_param_grid = {\n",
    "    'n_estimators': [50, 100, 200],  # Number of trees\n",
    "    'max_depth': [None, 10, 20, 30],  # Maximum depth of each tree\n",
    "    'min_samples_split': [2, 5, 10],  # Minimum samples required to split a node\n",
    "    'min_samples_leaf': [1, 2, 4],  # Minimum samples required to be a leaf node\n",
    "    'max_features': ['auto', 'sqrt', 'log2'],  # Number of features to consider for the best split\n",
    "    'bootstrap': [True, False]  # Whether to use bootstrap samples\n",
    "}\n",
    "\n",
    "# Initialize Random Forest model\n",
    "rf_model = RandomForestRegressor(random_state=42)\n",
    "\n",
    "# Apply GridSearchCV\n",
    "rf_grid_search = GridSearchCV(estimator=rf_model, param_grid=rf_param_grid, cv=5, scoring='neg_mean_squared_error', n_jobs=2)\n",
    "rf_grid_search.fit(X_train_scaled, y_train)\n",
    "\n",
    "# Get the best hyperparameters\n",
    "print(f\"Best hyperparameters for Random Forest: {rf_grid_search.best_params_}\")\n"
   ]
  },
  {
   "cell_type": "markdown",
   "id": "3c401b47",
   "metadata": {
    "id": "3c401b47"
   },
   "source": [
    "# Feature Selectin"
   ]
  },
  {
   "cell_type": "code",
   "execution_count": null,
   "id": "661a3a72",
   "metadata": {
    "colab": {
     "base_uri": "https://localhost:8080/"
    },
    "executionInfo": {
     "elapsed": 51,
     "status": "ok",
     "timestamp": 1739028876551,
     "user": {
      "displayName": "Aashish Shrestha",
      "userId": "11224514173543813789"
     },
     "user_tz": -345
    },
    "id": "661a3a72",
    "outputId": "9c3090d1-90f2-4693-9b04-acfb08640890"
   },
   "outputs": [
    {
     "name": "stdout",
     "output_type": "stream",
     "text": [
      "Selected Features: Index(['X1 transaction date', 'X2 house age',\n",
      "       'X4 number of convenience stores', 'X5 latitude', 'X6 longitude',\n",
      "       'Y house price of unit area'],\n",
      "      dtype='object')\n"
     ]
    },
    {
     "name": "stderr",
     "output_type": "stream",
     "text": [
      "/usr/local/lib/python3.11/dist-packages/sklearn/feature_selection/_univariate_selection.py:783: UserWarning: k=8 is greater than n_features=6. All the features will be returned.\n",
      "  warnings.warn(\n"
     ]
    }
   ],
   "source": [
    "from sklearn.feature_selection import SelectKBest, f_regression\n",
    "\n",
    "# Select K best features using f_regression\n",
    "k = 8  # Number of features to select\n",
    "selector = SelectKBest(score_func=f_regression, k=k)\n",
    "X_train_selected = selector.fit_transform(X_train_scaled, y_train)\n",
    "X_test_selected = selector.transform(X_test_scaled)\n",
    "\n",
    "# Display selected feature names\n",
    "selected_features = X_train.columns[selector.get_support()]\n",
    "print(f\"Selected Features: {selected_features}\")\n"
   ]
  },
  {
   "cell_type": "markdown",
   "id": "1a313b76",
   "metadata": {
    "id": "1a313b76"
   },
   "source": [
    "##  Linear Regression Model (with selected features and optimal hyperparameters)"
   ]
  },
  {
   "cell_type": "code",
   "execution_count": null,
   "id": "50069c75",
   "metadata": {
    "colab": {
     "base_uri": "https://localhost:8080/"
    },
    "executionInfo": {
     "elapsed": 19,
     "status": "ok",
     "timestamp": 1739028882499,
     "user": {
      "displayName": "Aashish Shrestha",
      "userId": "11224514173543813789"
     },
     "user_tz": -345
    },
    "id": "50069c75",
    "outputId": "bf1bc802-1ba7-40d8-8b0c-05c8e317cafb"
   },
   "outputs": [
    {
     "name": "stdout",
     "output_type": "stream",
     "text": [
      "Final Ridge Regression Results:\n",
      "MSE on Training Set: 224978.49327570677\n",
      "RMSE on Training Set: 474.3189784055734\n",
      "R-Squared on Training Set: 0.7562589593629158\n",
      "\n",
      "MSE on Test Set: 192274.93158400673\n",
      "RMSE on Test Set: 438.49165509050084\n",
      "R-Squared on Test Set: 0.8054098147146032\n"
     ]
    }
   ],
   "source": [
    "from sklearn.linear_model import Ridge\n",
    "from sklearn.metrics import mean_squared_error, r2_score\n",
    "\n",
    "# Use optimal alpha identified from hyperparameter tuning (for example, alpha=1.0)\n",
    "alpha_optimal = 1.0  # Adjust based on hyperparameter tuning results\n",
    "\n",
    "# Rebuild Ridge Regression model using the optimal alpha and selected features\n",
    "ridge_model_final = Ridge(alpha=alpha_optimal)\n",
    "ridge_model_final.fit(X_train_selected, y_train)\n",
    "\n",
    "# Predict on training and test sets\n",
    "y_pred_train_ridge_final = ridge_model_final.predict(X_train_selected)\n",
    "y_pred_test_ridge_final = ridge_model_final.predict(X_test_selected)\n",
    "\n",
    "# Calculate metrics for the final Ridge Regression model\n",
    "train_mse_ridge_final = mean_squared_error(y_train, y_pred_train_ridge_final)\n",
    "train_rmse_ridge_final = np.sqrt(train_mse_ridge_final)\n",
    "train_r2_ridge_final = r2_score(y_train, y_pred_train_ridge_final)\n",
    "\n",
    "test_mse_ridge_final = mean_squared_error(y_test, y_pred_test_ridge_final)\n",
    "test_rmse_ridge_final = np.sqrt(test_mse_ridge_final)\n",
    "test_r2_ridge_final = r2_score(y_test, y_pred_test_ridge_final)\n",
    "\n",
    "# Print results for the final Ridge Regression model\n",
    "print(\"Final Ridge Regression Results:\")\n",
    "print(f\"MSE on Training Set: {train_mse_ridge_final}\")\n",
    "print(f\"RMSE on Training Set: {train_rmse_ridge_final}\")\n",
    "print(f\"R-Squared on Training Set: {train_r2_ridge_final}\")\n",
    "print()\n",
    "print(f\"MSE on Test Set: {test_mse_ridge_final}\")\n",
    "print(f\"RMSE on Test Set: {test_rmse_ridge_final}\")\n",
    "print(f\"R-Squared on Test Set: {test_r2_ridge_final}\")\n"
   ]
  },
  {
   "cell_type": "markdown",
   "id": "d4eb8d5e",
   "metadata": {
    "id": "d4eb8d5e"
   },
   "source": [
    "##  Random Forest Model (with selected features and optimal hyperparameters)"
   ]
  },
  {
   "cell_type": "code",
   "execution_count": null,
   "id": "cb9af05a",
   "metadata": {
    "colab": {
     "base_uri": "https://localhost:8080/"
    },
    "executionInfo": {
     "elapsed": 348,
     "status": "ok",
     "timestamp": 1739029035162,
     "user": {
      "displayName": "Aashish Shrestha",
      "userId": "11224514173543813789"
     },
     "user_tz": -345
    },
    "id": "cb9af05a",
    "outputId": "5f69de82-0938-4767-9ae5-e1326f07bd99"
   },
   "outputs": [
    {
     "name": "stdout",
     "output_type": "stream",
     "text": [
      "Best hyperparameters for Random Forest: {'bootstrap': False, 'max_depth': 20, 'max_features': 'sqrt', 'min_samples_leaf': 1, 'min_samples_split': 2, 'n_estimators': 200}\n",
      "Final Random Forest Results:\n",
      "MSE on Training Set: 8.72752151605815e-05\n",
      "RMSE on Training Set: 0.009342120485231472\n",
      "R-Squared on Training Set: 0.9999999999054463\n",
      "\n",
      "MSE on Test Set: 7273.603701446598\n",
      "RMSE on Test Set: 85.28542490629098\n",
      "R-Squared on Test Set: 0.9926388121410479\n"
     ]
    }
   ],
   "source": [
    "\n",
    "best_params = rf_grid_search.best_params_\n",
    "print(f\"Best hyperparameters for Random Forest: {best_params}\")\n",
    "\n",
    "rf_model_final = RandomForestRegressor(\n",
    "    n_estimators=best_params['n_estimators'],\n",
    "    max_depth=best_params['max_depth'],\n",
    "    min_samples_split=best_params['min_samples_split'],\n",
    "    min_samples_leaf=best_params['min_samples_leaf'],\n",
    "    max_features=best_params['max_features'],\n",
    "    bootstrap=best_params['bootstrap'],\n",
    "    random_state=42\n",
    ")\n",
    "\n",
    "# Train the final model with selected features\n",
    "rf_model_final.fit(X_train_selected, y_train)\n",
    "\n",
    "# Predict and evaluate the final model\n",
    "y_pred_train_rf_final = rf_model_final.predict(X_train_selected)\n",
    "y_pred_test_rf_final = rf_model_final.predict(X_test_selected)\n",
    "\n",
    "train_mse_rf_final = mean_squared_error(y_train, y_pred_train_rf_final)\n",
    "train_rmse_rf_final = np.sqrt(train_mse_rf_final)\n",
    "train_r2_rf_final = r2_score(y_train, y_pred_train_rf_final)\n",
    "\n",
    "test_mse_rf_final = mean_squared_error(y_test, y_pred_test_rf_final)\n",
    "test_rmse_rf_final = np.sqrt(test_mse_rf_final)\n",
    "test_r2_rf_final = r2_score(y_test, y_pred_test_rf_final)\n",
    "\n",
    "# Print the results for the final model\n",
    "print(\"Final Random Forest Results:\")\n",
    "print(f\"MSE on Training Set: {train_mse_rf_final}\")\n",
    "print(f\"RMSE on Training Set: {train_rmse_rf_final}\")\n",
    "print(f\"R-Squared on Training Set: {train_r2_rf_final}\")\n",
    "print()\n",
    "print(f\"MSE on Test Set: {test_mse_rf_final}\")\n",
    "print(f\"RMSE on Test Set: {test_rmse_rf_final}\")\n",
    "print(f\"R-Squared on Test Set: {test_r2_rf_final}\")"
   ]
  },
  {
   "cell_type": "code",
   "execution_count": null,
   "id": "6786d445",
   "metadata": {
    "id": "6786d445"
   },
   "outputs": [],
   "source": []
  },
  {
   "cell_type": "code",
   "execution_count": null,
   "id": "b80ba6ad",
   "metadata": {
    "id": "b80ba6ad"
   },
   "outputs": [],
   "source": []
  },
  {
   "cell_type": "code",
   "execution_count": null,
   "id": "ed4abba1",
   "metadata": {
    "id": "ed4abba1"
   },
   "outputs": [],
   "source": []
  },
  {
   "cell_type": "code",
   "execution_count": null,
   "id": "93f8773d",
   "metadata": {
    "id": "93f8773d"
   },
   "outputs": [],
   "source": []
  }
 ],
 "metadata": {
  "colab": {
   "provenance": []
  },
  "kernelspec": {
   "display_name": "Python 3 (ipykernel)",
   "language": "python",
   "name": "python3"
  },
  "language_info": {
   "codemirror_mode": {
    "name": "ipython",
    "version": 3
   },
   "file_extension": ".py",
   "mimetype": "text/x-python",
   "name": "python",
   "nbconvert_exporter": "python",
   "pygments_lexer": "ipython3",
   "version": "3.10.9"
  }
 },
 "nbformat": 4,
 "nbformat_minor": 5
}
